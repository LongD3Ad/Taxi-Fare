{
 "cells": [
  {
   "cell_type": "code",
   "execution_count": 1,
   "id": "e17b1783-bbf8-4265-86ae-6b50e32f184e",
   "metadata": {},
   "outputs": [],
   "source": [
    "import pandas as pd"
   ]
  },
  {
   "cell_type": "code",
   "execution_count": 2,
   "id": "879f3732-c25e-41d2-89fa-545b085b6c34",
   "metadata": {},
   "outputs": [],
   "source": [
    "import pandas as pd\n",
    "#Reading bit by bit since data is too large \n",
    "chunk_size = 500000\n",
    "# Initialize an empty list to collect chunks\n",
    "chunks = []\n",
    "for chunk in pd.read_csv('eda.csv', chunksize=chunk_size):\n",
    "    chunks.append(chunk)\n",
    "#Convert to dataframe\n",
    "df = pd.concat(chunks, ignore_index=True)"
   ]
  },
  {
   "cell_type": "code",
   "execution_count": 3,
   "id": "468a2b73-8e0c-4437-aa43-695727cace6a",
   "metadata": {},
   "outputs": [
    {
     "data": {
      "text/html": [
       "<div>\n",
       "<style scoped>\n",
       "    .dataframe tbody tr th:only-of-type {\n",
       "        vertical-align: middle;\n",
       "    }\n",
       "\n",
       "    .dataframe tbody tr th {\n",
       "        vertical-align: top;\n",
       "    }\n",
       "\n",
       "    .dataframe thead th {\n",
       "        text-align: right;\n",
       "    }\n",
       "</style>\n",
       "<table border=\"1\" class=\"dataframe\">\n",
       "  <thead>\n",
       "    <tr style=\"text-align: right;\">\n",
       "      <th></th>\n",
       "      <th>tpep_pickup_datetime</th>\n",
       "      <th>tpep_dropoff_datetime</th>\n",
       "      <th>passenger_count</th>\n",
       "      <th>trip_distance</th>\n",
       "      <th>PULocationID</th>\n",
       "      <th>DOLocationID</th>\n",
       "      <th>payment_type</th>\n",
       "      <th>fare_amount</th>\n",
       "      <th>extra</th>\n",
       "      <th>mta_tax</th>\n",
       "      <th>...</th>\n",
       "      <th>tip_amount_transformed</th>\n",
       "      <th>pickup_week</th>\n",
       "      <th>pickup_date</th>\n",
       "      <th>day_of_week</th>\n",
       "      <th>hour</th>\n",
       "      <th>month</th>\n",
       "      <th>pickup_latitude</th>\n",
       "      <th>pickup_longitude</th>\n",
       "      <th>dropoff_latitude</th>\n",
       "      <th>dropoff_longitude</th>\n",
       "    </tr>\n",
       "  </thead>\n",
       "  <tbody>\n",
       "    <tr>\n",
       "      <th>0</th>\n",
       "      <td>2020-01-01 00:28:15</td>\n",
       "      <td>2020-01-01 00:33:03</td>\n",
       "      <td>1.0</td>\n",
       "      <td>0.422371</td>\n",
       "      <td>238</td>\n",
       "      <td>239</td>\n",
       "      <td>1.0</td>\n",
       "      <td>0.237510</td>\n",
       "      <td>3.0</td>\n",
       "      <td>0.5</td>\n",
       "      <td>...</td>\n",
       "      <td>0.410110</td>\n",
       "      <td>2019-12-30/2020-01-05</td>\n",
       "      <td>2020-01-01</td>\n",
       "      <td>Wednesday</td>\n",
       "      <td>0</td>\n",
       "      <td>1</td>\n",
       "      <td>40.791705</td>\n",
       "      <td>-73.973049</td>\n",
       "      <td>40.783961</td>\n",
       "      <td>-73.978632</td>\n",
       "    </tr>\n",
       "    <tr>\n",
       "      <th>1</th>\n",
       "      <td>2020-01-01 00:35:39</td>\n",
       "      <td>2020-01-01 00:43:04</td>\n",
       "      <td>1.0</td>\n",
       "      <td>0.422371</td>\n",
       "      <td>239</td>\n",
       "      <td>238</td>\n",
       "      <td>1.0</td>\n",
       "      <td>0.277161</td>\n",
       "      <td>3.0</td>\n",
       "      <td>0.5</td>\n",
       "      <td>...</td>\n",
       "      <td>0.433048</td>\n",
       "      <td>2019-12-30/2020-01-05</td>\n",
       "      <td>2020-01-01</td>\n",
       "      <td>Wednesday</td>\n",
       "      <td>0</td>\n",
       "      <td>1</td>\n",
       "      <td>40.783961</td>\n",
       "      <td>-73.978632</td>\n",
       "      <td>40.791705</td>\n",
       "      <td>-73.973049</td>\n",
       "    </tr>\n",
       "    <tr>\n",
       "      <th>2</th>\n",
       "      <td>2020-01-01 00:47:41</td>\n",
       "      <td>2020-01-01 00:53:52</td>\n",
       "      <td>1.0</td>\n",
       "      <td>0.322204</td>\n",
       "      <td>238</td>\n",
       "      <td>238</td>\n",
       "      <td>1.0</td>\n",
       "      <td>0.237510</td>\n",
       "      <td>3.0</td>\n",
       "      <td>0.5</td>\n",
       "      <td>...</td>\n",
       "      <td>0.000000</td>\n",
       "      <td>2019-12-30/2020-01-05</td>\n",
       "      <td>2020-01-01</td>\n",
       "      <td>Wednesday</td>\n",
       "      <td>0</td>\n",
       "      <td>1</td>\n",
       "      <td>40.791705</td>\n",
       "      <td>-73.973049</td>\n",
       "      <td>40.791705</td>\n",
       "      <td>-73.973049</td>\n",
       "    </tr>\n",
       "    <tr>\n",
       "      <th>3</th>\n",
       "      <td>2020-01-01 00:55:23</td>\n",
       "      <td>2020-01-01 01:00:14</td>\n",
       "      <td>1.0</td>\n",
       "      <td>0.355593</td>\n",
       "      <td>238</td>\n",
       "      <td>151</td>\n",
       "      <td>1.0</td>\n",
       "      <td>0.217684</td>\n",
       "      <td>0.5</td>\n",
       "      <td>0.5</td>\n",
       "      <td>...</td>\n",
       "      <td>0.323179</td>\n",
       "      <td>2019-12-30/2020-01-05</td>\n",
       "      <td>2020-01-01</td>\n",
       "      <td>Wednesday</td>\n",
       "      <td>0</td>\n",
       "      <td>1</td>\n",
       "      <td>40.791705</td>\n",
       "      <td>-73.973049</td>\n",
       "      <td>40.797962</td>\n",
       "      <td>-73.968168</td>\n",
       "    </tr>\n",
       "    <tr>\n",
       "      <th>4</th>\n",
       "      <td>2020-01-01 00:01:58</td>\n",
       "      <td>2020-01-01 00:04:16</td>\n",
       "      <td>1.0</td>\n",
       "      <td>0.222037</td>\n",
       "      <td>193</td>\n",
       "      <td>193</td>\n",
       "      <td>2.0</td>\n",
       "      <td>0.138382</td>\n",
       "      <td>0.5</td>\n",
       "      <td>0.5</td>\n",
       "      <td>...</td>\n",
       "      <td>0.000000</td>\n",
       "      <td>2019-12-30/2020-01-05</td>\n",
       "      <td>2020-01-01</td>\n",
       "      <td>Wednesday</td>\n",
       "      <td>0</td>\n",
       "      <td>1</td>\n",
       "      <td>40.760314</td>\n",
       "      <td>-73.941997</td>\n",
       "      <td>40.760314</td>\n",
       "      <td>-73.941997</td>\n",
       "    </tr>\n",
       "  </tbody>\n",
       "</table>\n",
       "<p>5 rows × 51 columns</p>\n",
       "</div>"
      ],
      "text/plain": [
       "  tpep_pickup_datetime tpep_dropoff_datetime  passenger_count  trip_distance  \\\n",
       "0  2020-01-01 00:28:15   2020-01-01 00:33:03              1.0       0.422371   \n",
       "1  2020-01-01 00:35:39   2020-01-01 00:43:04              1.0       0.422371   \n",
       "2  2020-01-01 00:47:41   2020-01-01 00:53:52              1.0       0.322204   \n",
       "3  2020-01-01 00:55:23   2020-01-01 01:00:14              1.0       0.355593   \n",
       "4  2020-01-01 00:01:58   2020-01-01 00:04:16              1.0       0.222037   \n",
       "\n",
       "   PULocationID  DOLocationID  payment_type  fare_amount  extra  mta_tax  ...  \\\n",
       "0           238           239           1.0     0.237510    3.0      0.5  ...   \n",
       "1           239           238           1.0     0.277161    3.0      0.5  ...   \n",
       "2           238           238           1.0     0.237510    3.0      0.5  ...   \n",
       "3           238           151           1.0     0.217684    0.5      0.5  ...   \n",
       "4           193           193           2.0     0.138382    0.5      0.5  ...   \n",
       "\n",
       "   tip_amount_transformed            pickup_week  pickup_date  day_of_week  \\\n",
       "0                0.410110  2019-12-30/2020-01-05   2020-01-01    Wednesday   \n",
       "1                0.433048  2019-12-30/2020-01-05   2020-01-01    Wednesday   \n",
       "2                0.000000  2019-12-30/2020-01-05   2020-01-01    Wednesday   \n",
       "3                0.323179  2019-12-30/2020-01-05   2020-01-01    Wednesday   \n",
       "4                0.000000  2019-12-30/2020-01-05   2020-01-01    Wednesday   \n",
       "\n",
       "   hour  month  pickup_latitude  pickup_longitude  dropoff_latitude  \\\n",
       "0     0      1        40.791705        -73.973049         40.783961   \n",
       "1     0      1        40.783961        -73.978632         40.791705   \n",
       "2     0      1        40.791705        -73.973049         40.791705   \n",
       "3     0      1        40.791705        -73.973049         40.797962   \n",
       "4     0      1        40.760314        -73.941997         40.760314   \n",
       "\n",
       "   dropoff_longitude  \n",
       "0         -73.978632  \n",
       "1         -73.973049  \n",
       "2         -73.973049  \n",
       "3         -73.968168  \n",
       "4         -73.941997  \n",
       "\n",
       "[5 rows x 51 columns]"
      ]
     },
     "execution_count": 3,
     "metadata": {},
     "output_type": "execute_result"
    }
   ],
   "source": [
    "df.head()"
   ]
  },
  {
   "cell_type": "code",
   "execution_count": 4,
   "id": "4ce2f137-ca76-45a6-b630-a1013b133608",
   "metadata": {},
   "outputs": [
    {
     "data": {
      "text/plain": [
       "(5321529, 51)"
      ]
     },
     "execution_count": 4,
     "metadata": {},
     "output_type": "execute_result"
    }
   ],
   "source": [
    "df.shape"
   ]
  },
  {
   "cell_type": "code",
   "execution_count": 5,
   "id": "15a1fdd6-12d1-4ed8-9b13-7e3615e15a2b",
   "metadata": {},
   "outputs": [],
   "source": [
    "df1 = df"
   ]
  },
  {
   "cell_type": "code",
   "execution_count": 7,
   "id": "603cfc51-7163-461a-bcbc-852db0c0f986",
   "metadata": {},
   "outputs": [],
   "source": [
    "df1['tpep_pickup_datetime'] = pd.to_datetime(df1['tpep_pickup_datetime'])\n",
    "df1['tpep_dropoff_datetime'] = pd.to_datetime(df1['tpep_dropoff_datetime'])"
   ]
  },
  {
   "cell_type": "code",
   "execution_count": 8,
   "id": "baf93b58-d4f0-4a9c-9724-ec13171ad87b",
   "metadata": {},
   "outputs": [],
   "source": [
    "columns_to_drop = ['tpep_pickup_datetime', 'tpep_dropoff_datetime', 'trip_type', 'pickup_week', 'pickup_date', 'day_of_week']\n",
    "df1 = df1.drop(columns=columns_to_drop)"
   ]
  },
  {
   "cell_type": "code",
   "execution_count": 9,
   "id": "9a5dfc0b-bb7c-40be-8e47-8eceec6c6c57",
   "metadata": {},
   "outputs": [],
   "source": [
    "df1 = df1.apply(pd.to_numeric, errors='coerce')"
   ]
  },
  {
   "cell_type": "code",
   "execution_count": 10,
   "id": "43538664-c3f2-49df-a771-3b812435b7ce",
   "metadata": {},
   "outputs": [],
   "source": [
    "df1.to_csv('eda1.csv', index = False)"
   ]
  },
  {
   "cell_type": "code",
   "execution_count": 11,
   "id": "129df05e-7158-4b41-85cf-63cdec6b7ab5",
   "metadata": {},
   "outputs": [],
   "source": [
    "from sklearn.preprocessing import StandardScaler\n",
    "chunk_size = 500000\n",
    "numerical_cols = [\n",
    "    'trip_distance', 'fare_amount', 'extra', 'mta_tax', 'tip_amount',\n",
    "    'tolls_amount', 'improvement_surcharge', 'congestion_surcharge', \n",
    "    'fare_per_mile', 'avg_fare_per_pulocation', 'avg_fare_per_dolocation', \n",
    "    'trip_duration', 'log_trip_distance', 'log_trip_duration', \n",
    "    'log_fare_amount', 'log_tip_amount', 'boxcox_trip_distance', \n",
    "    'boxcox_trip_duration', 'boxcox_fare_amount', 'boxcox_tip_amount',\n",
    "    'pickup_latitude', 'pickup_longitude', 'dropoff_latitude', 'dropoff_longitude'\n",
    "]\n",
    "\n",
    "scaler = StandardScaler()"
   ]
  },
  {
   "cell_type": "code",
   "execution_count": 12,
   "id": "a4d5aa40-b009-459c-a082-984b50da1568",
   "metadata": {},
   "outputs": [],
   "source": [
    "for chunk in pd.read_csv('eda1.csv', usecols=numerical_cols, chunksize=chunk_size):\n",
    "    scaler.partial_fit(chunk)"
   ]
  },
  {
   "cell_type": "code",
   "execution_count": 13,
   "id": "c379a54c-19aa-4c71-b32a-fc820a58075a",
   "metadata": {},
   "outputs": [],
   "source": [
    "scaled_chunks = []\n",
    "for chunk in pd.read_csv('eda1.csv', chunksize=chunk_size):\n",
    "    chunk[numerical_cols] = scaler.transform(chunk[numerical_cols])\n",
    "    scaled_chunks.append(chunk)"
   ]
  },
  {
   "cell_type": "code",
   "execution_count": 14,
   "id": "04823135-4ef6-4950-9976-8a3dd50a6d5e",
   "metadata": {},
   "outputs": [],
   "source": [
    "#Now we save the scaled values into a dataframe for future use\n",
    "\n",
    "df2 = pd.concat(scaled_chunks, ignore_index=True)"
   ]
  },
  {
   "cell_type": "code",
   "execution_count": 15,
   "id": "ea8414c7-c0c1-460c-980d-a3f14fea1223",
   "metadata": {},
   "outputs": [
    {
     "data": {
      "text/html": [
       "<div>\n",
       "<style scoped>\n",
       "    .dataframe tbody tr th:only-of-type {\n",
       "        vertical-align: middle;\n",
       "    }\n",
       "\n",
       "    .dataframe tbody tr th {\n",
       "        vertical-align: top;\n",
       "    }\n",
       "\n",
       "    .dataframe thead th {\n",
       "        text-align: right;\n",
       "    }\n",
       "</style>\n",
       "<table border=\"1\" class=\"dataframe\">\n",
       "  <thead>\n",
       "    <tr style=\"text-align: right;\">\n",
       "      <th></th>\n",
       "      <th>passenger_count</th>\n",
       "      <th>trip_distance</th>\n",
       "      <th>PULocationID</th>\n",
       "      <th>DOLocationID</th>\n",
       "      <th>payment_type</th>\n",
       "      <th>fare_amount</th>\n",
       "      <th>extra</th>\n",
       "      <th>mta_tax</th>\n",
       "      <th>tip_amount</th>\n",
       "      <th>tolls_amount</th>\n",
       "      <th>...</th>\n",
       "      <th>boxcox_fare_amount</th>\n",
       "      <th>boxcox_tip_amount</th>\n",
       "      <th>tip_given</th>\n",
       "      <th>tip_amount_transformed</th>\n",
       "      <th>hour</th>\n",
       "      <th>month</th>\n",
       "      <th>pickup_latitude</th>\n",
       "      <th>pickup_longitude</th>\n",
       "      <th>dropoff_latitude</th>\n",
       "      <th>dropoff_longitude</th>\n",
       "    </tr>\n",
       "  </thead>\n",
       "  <tbody>\n",
       "    <tr>\n",
       "      <th>0</th>\n",
       "      <td>1.0</td>\n",
       "      <td>-0.446200</td>\n",
       "      <td>238</td>\n",
       "      <td>239</td>\n",
       "      <td>1.0</td>\n",
       "      <td>-0.767335</td>\n",
       "      <td>1.527338</td>\n",
       "      <td>0.038378</td>\n",
       "      <td>-0.141140</td>\n",
       "      <td>-0.032898</td>\n",
       "      <td>...</td>\n",
       "      <td>-0.767968</td>\n",
       "      <td>0.007112</td>\n",
       "      <td>1</td>\n",
       "      <td>0.410110</td>\n",
       "      <td>0</td>\n",
       "      <td>1</td>\n",
       "      <td>1.551130</td>\n",
       "      <td>0.252161</td>\n",
       "      <td>1.121102</td>\n",
       "      <td>-0.069330</td>\n",
       "    </tr>\n",
       "    <tr>\n",
       "      <th>1</th>\n",
       "      <td>1.0</td>\n",
       "      <td>-0.446200</td>\n",
       "      <td>239</td>\n",
       "      <td>238</td>\n",
       "      <td>1.0</td>\n",
       "      <td>-0.499769</td>\n",
       "      <td>1.527338</td>\n",
       "      <td>0.038378</td>\n",
       "      <td>-0.122839</td>\n",
       "      <td>-0.032898</td>\n",
       "      <td>...</td>\n",
       "      <td>-0.395814</td>\n",
       "      <td>0.029080</td>\n",
       "      <td>1</td>\n",
       "      <td>0.433048</td>\n",
       "      <td>0</td>\n",
       "      <td>1</td>\n",
       "      <td>1.212009</td>\n",
       "      <td>-0.012898</td>\n",
       "      <td>1.441136</td>\n",
       "      <td>0.187912</td>\n",
       "    </tr>\n",
       "    <tr>\n",
       "      <th>2</th>\n",
       "      <td>1.0</td>\n",
       "      <td>-1.057243</td>\n",
       "      <td>238</td>\n",
       "      <td>238</td>\n",
       "      <td>1.0</td>\n",
       "      <td>-0.767335</td>\n",
       "      <td>1.527338</td>\n",
       "      <td>0.038378</td>\n",
       "      <td>-0.427856</td>\n",
       "      <td>-0.032898</td>\n",
       "      <td>...</td>\n",
       "      <td>-0.767968</td>\n",
       "      <td>-0.362171</td>\n",
       "      <td>1</td>\n",
       "      <td>0.000000</td>\n",
       "      <td>0</td>\n",
       "      <td>1</td>\n",
       "      <td>1.551130</td>\n",
       "      <td>0.252161</td>\n",
       "      <td>1.441136</td>\n",
       "      <td>0.187912</td>\n",
       "    </tr>\n",
       "    <tr>\n",
       "      <th>3</th>\n",
       "      <td>1.0</td>\n",
       "      <td>-0.853562</td>\n",
       "      <td>238</td>\n",
       "      <td>151</td>\n",
       "      <td>1.0</td>\n",
       "      <td>-0.901117</td>\n",
       "      <td>-0.502998</td>\n",
       "      <td>0.038378</td>\n",
       "      <td>-0.208244</td>\n",
       "      <td>-0.032898</td>\n",
       "      <td>...</td>\n",
       "      <td>-0.970941</td>\n",
       "      <td>-0.074944</td>\n",
       "      <td>1</td>\n",
       "      <td>0.323179</td>\n",
       "      <td>0</td>\n",
       "      <td>1</td>\n",
       "      <td>1.551130</td>\n",
       "      <td>0.252161</td>\n",
       "      <td>1.699736</td>\n",
       "      <td>0.412787</td>\n",
       "    </tr>\n",
       "    <tr>\n",
       "      <th>4</th>\n",
       "      <td>1.0</td>\n",
       "      <td>-1.668286</td>\n",
       "      <td>193</td>\n",
       "      <td>193</td>\n",
       "      <td>2.0</td>\n",
       "      <td>-1.436249</td>\n",
       "      <td>-0.502998</td>\n",
       "      <td>0.038378</td>\n",
       "      <td>-1.037889</td>\n",
       "      <td>-0.032898</td>\n",
       "      <td>...</td>\n",
       "      <td>-1.917596</td>\n",
       "      <td>-1.397853</td>\n",
       "      <td>0</td>\n",
       "      <td>0.000000</td>\n",
       "      <td>0</td>\n",
       "      <td>1</td>\n",
       "      <td>0.176372</td>\n",
       "      <td>1.726368</td>\n",
       "      <td>0.143756</td>\n",
       "      <td>1.618643</td>\n",
       "    </tr>\n",
       "  </tbody>\n",
       "</table>\n",
       "<p>5 rows × 45 columns</p>\n",
       "</div>"
      ],
      "text/plain": [
       "   passenger_count  trip_distance  PULocationID  DOLocationID  payment_type  \\\n",
       "0              1.0      -0.446200           238           239           1.0   \n",
       "1              1.0      -0.446200           239           238           1.0   \n",
       "2              1.0      -1.057243           238           238           1.0   \n",
       "3              1.0      -0.853562           238           151           1.0   \n",
       "4              1.0      -1.668286           193           193           2.0   \n",
       "\n",
       "   fare_amount     extra   mta_tax  tip_amount  tolls_amount  ...  \\\n",
       "0    -0.767335  1.527338  0.038378   -0.141140     -0.032898  ...   \n",
       "1    -0.499769  1.527338  0.038378   -0.122839     -0.032898  ...   \n",
       "2    -0.767335  1.527338  0.038378   -0.427856     -0.032898  ...   \n",
       "3    -0.901117 -0.502998  0.038378   -0.208244     -0.032898  ...   \n",
       "4    -1.436249 -0.502998  0.038378   -1.037889     -0.032898  ...   \n",
       "\n",
       "   boxcox_fare_amount  boxcox_tip_amount  tip_given  tip_amount_transformed  \\\n",
       "0           -0.767968           0.007112          1                0.410110   \n",
       "1           -0.395814           0.029080          1                0.433048   \n",
       "2           -0.767968          -0.362171          1                0.000000   \n",
       "3           -0.970941          -0.074944          1                0.323179   \n",
       "4           -1.917596          -1.397853          0                0.000000   \n",
       "\n",
       "   hour  month  pickup_latitude  pickup_longitude  dropoff_latitude  \\\n",
       "0     0      1         1.551130          0.252161          1.121102   \n",
       "1     0      1         1.212009         -0.012898          1.441136   \n",
       "2     0      1         1.551130          0.252161          1.441136   \n",
       "3     0      1         1.551130          0.252161          1.699736   \n",
       "4     0      1         0.176372          1.726368          0.143756   \n",
       "\n",
       "   dropoff_longitude  \n",
       "0          -0.069330  \n",
       "1           0.187912  \n",
       "2           0.187912  \n",
       "3           0.412787  \n",
       "4           1.618643  \n",
       "\n",
       "[5 rows x 45 columns]"
      ]
     },
     "execution_count": 15,
     "metadata": {},
     "output_type": "execute_result"
    }
   ],
   "source": [
    "df2.head()"
   ]
  },
  {
   "cell_type": "markdown",
   "id": "46e85cef-475f-4d7c-93cb-fb0ec1220182",
   "metadata": {},
   "source": [
    "### Here optionally if needed we can save the scaled down csv, but for now we will not be doing that"
   ]
  },
  {
   "cell_type": "code",
   "execution_count": 1,
   "id": "e48ded18-55b2-4252-aa02-8094ff551230",
   "metadata": {},
   "outputs": [],
   "source": [
    "from sklearn.model_selection import train_test_split\n",
    "import pandas as pd"
   ]
  },
  {
   "cell_type": "code",
   "execution_count": 2,
   "id": "f4b1536b-bf16-46ae-8951-74e8682ede56",
   "metadata": {},
   "outputs": [],
   "source": [
    "chunk_size = 500000"
   ]
  },
  {
   "cell_type": "markdown",
   "id": "58de4f8e-dae9-416f-a601-b6af9fb0a482",
   "metadata": {},
   "source": [
    "#### Here the train, validation and test splitting was done as per the scikit learn website you can refer that for further understanding "
   ]
  },
  {
   "cell_type": "code",
   "execution_count": 3,
   "id": "34f80f45-3a6d-468b-876a-7b78da58b1e5",
   "metadata": {},
   "outputs": [],
   "source": [
    "#setting variables\n",
    "\n",
    "train_size = 0.6\n",
    "validation_size = 0.2\n",
    "test_size = 0.2"
   ]
  },
  {
   "cell_type": "code",
   "execution_count": 4,
   "id": "7e6fbcb9-d08f-4d44-a321-aa8625397d07",
   "metadata": {},
   "outputs": [],
   "source": [
    "#Lists to hold the splitted data\n",
    "\n",
    "train_chunks = []\n",
    "validation_chunks = []\n",
    "test_chunks = []"
   ]
  },
  {
   "cell_type": "code",
   "execution_count": 5,
   "id": "23747364-5c7e-49de-a3bb-72cd48399cf1",
   "metadata": {},
   "outputs": [],
   "source": [
    "#Forecfully have to save the scaled file since I failed to use the dataframe for the train test split :(\n",
    "\n",
    "# df2.to_csv('scaled_eda1.csv', index = False)"
   ]
  },
  {
   "cell_type": "code",
   "execution_count": 6,
   "id": "1b07676e-20e5-46af-a6db-60ab12bd7437",
   "metadata": {},
   "outputs": [],
   "source": [
    "# df3 = pd.read_csv('scaled_eda1.csv')"
   ]
  },
  {
   "cell_type": "code",
   "execution_count": 7,
   "id": "f836de79-1b1e-4dd4-b423-0da1f0f14b14",
   "metadata": {},
   "outputs": [],
   "source": [
    "for chunk in pd.read_csv('scaled_eda1.csv', chunksize=chunk_size):\n",
    "    train, temp = train_test_split(chunk, test_size=(1 - train_size))\n",
    "    validation, test = train_test_split(temp, test_size=(test_size / (test_size + validation_size)))\n",
    "    \n",
    "    train_chunks.append(train)\n",
    "    validation_chunks.append(validation)\n",
    "    test_chunks.append(test)\n",
    "\n",
    "# Individual dataframes\n",
    "train_df = pd.concat(train_chunks, ignore_index=True)\n",
    "validation_df = pd.concat(validation_chunks, ignore_index=True)\n",
    "test_df = pd.concat(test_chunks, ignore_index=True)\n",
    "\n",
    "# Separate csv files for idk maybe useful\n",
    "# train_df.to_csv('train1.csv', index=False)\n",
    "# validation_df.to_csv('validation1.csv', index=False)\n",
    "# test_df.to_csv('test1.csv', index=False)"
   ]
  },
  {
   "cell_type": "code",
   "execution_count": 8,
   "id": "64ffadd4-283d-41e5-8171-8dabd518d392",
   "metadata": {},
   "outputs": [
    {
     "name": "stdout",
     "output_type": "stream",
     "text": [
      "The training dataset is : (3192917, 45)\n",
      "The validation dataset is : (1064306, 45)\n",
      "The testing dataset is : (1064306, 45)\n"
     ]
    }
   ],
   "source": [
    "print(f'The training dataset is : {train_df.shape}')\n",
    "print(f'The validation dataset is : {validation_df.shape}')\n",
    "print(f'The testing dataset is : {test_df.shape}')"
   ]
  },
  {
   "cell_type": "markdown",
   "id": "0b496c37-746b-48bf-b3f9-cd3d93fef784",
   "metadata": {},
   "source": [
    "### Using a simple model to get a performance benchmark here we are taking Linear Regression "
   ]
  },
  {
   "cell_type": "code",
   "execution_count": 9,
   "id": "8ef7a5d5-a744-4feb-9ef3-f9c4bb12c75d",
   "metadata": {},
   "outputs": [],
   "source": [
    "from sklearn.linear_model import LinearRegression "
   ]
  },
  {
   "cell_type": "code",
   "execution_count": 10,
   "id": "f05c6dea-fc38-483e-8966-9eb98a508f80",
   "metadata": {},
   "outputs": [],
   "source": [
    "from sklearn.metrics import mean_absolute_error, mean_squared_error, r2_score"
   ]
  },
  {
   "cell_type": "code",
   "execution_count": 11,
   "id": "8dfb3651-50ec-4756-9c85-91e8a00a6509",
   "metadata": {},
   "outputs": [
    {
     "data": {
      "text/html": [
       "<style>#sk-container-id-1 {color: black;}#sk-container-id-1 pre{padding: 0;}#sk-container-id-1 div.sk-toggleable {background-color: white;}#sk-container-id-1 label.sk-toggleable__label {cursor: pointer;display: block;width: 100%;margin-bottom: 0;padding: 0.3em;box-sizing: border-box;text-align: center;}#sk-container-id-1 label.sk-toggleable__label-arrow:before {content: \"▸\";float: left;margin-right: 0.25em;color: #696969;}#sk-container-id-1 label.sk-toggleable__label-arrow:hover:before {color: black;}#sk-container-id-1 div.sk-estimator:hover label.sk-toggleable__label-arrow:before {color: black;}#sk-container-id-1 div.sk-toggleable__content {max-height: 0;max-width: 0;overflow: hidden;text-align: left;background-color: #f0f8ff;}#sk-container-id-1 div.sk-toggleable__content pre {margin: 0.2em;color: black;border-radius: 0.25em;background-color: #f0f8ff;}#sk-container-id-1 input.sk-toggleable__control:checked~div.sk-toggleable__content {max-height: 200px;max-width: 100%;overflow: auto;}#sk-container-id-1 input.sk-toggleable__control:checked~label.sk-toggleable__label-arrow:before {content: \"▾\";}#sk-container-id-1 div.sk-estimator input.sk-toggleable__control:checked~label.sk-toggleable__label {background-color: #d4ebff;}#sk-container-id-1 div.sk-label input.sk-toggleable__control:checked~label.sk-toggleable__label {background-color: #d4ebff;}#sk-container-id-1 input.sk-hidden--visually {border: 0;clip: rect(1px 1px 1px 1px);clip: rect(1px, 1px, 1px, 1px);height: 1px;margin: -1px;overflow: hidden;padding: 0;position: absolute;width: 1px;}#sk-container-id-1 div.sk-estimator {font-family: monospace;background-color: #f0f8ff;border: 1px dotted black;border-radius: 0.25em;box-sizing: border-box;margin-bottom: 0.5em;}#sk-container-id-1 div.sk-estimator:hover {background-color: #d4ebff;}#sk-container-id-1 div.sk-parallel-item::after {content: \"\";width: 100%;border-bottom: 1px solid gray;flex-grow: 1;}#sk-container-id-1 div.sk-label:hover label.sk-toggleable__label {background-color: #d4ebff;}#sk-container-id-1 div.sk-serial::before {content: \"\";position: absolute;border-left: 1px solid gray;box-sizing: border-box;top: 0;bottom: 0;left: 50%;z-index: 0;}#sk-container-id-1 div.sk-serial {display: flex;flex-direction: column;align-items: center;background-color: white;padding-right: 0.2em;padding-left: 0.2em;position: relative;}#sk-container-id-1 div.sk-item {position: relative;z-index: 1;}#sk-container-id-1 div.sk-parallel {display: flex;align-items: stretch;justify-content: center;background-color: white;position: relative;}#sk-container-id-1 div.sk-item::before, #sk-container-id-1 div.sk-parallel-item::before {content: \"\";position: absolute;border-left: 1px solid gray;box-sizing: border-box;top: 0;bottom: 0;left: 50%;z-index: -1;}#sk-container-id-1 div.sk-parallel-item {display: flex;flex-direction: column;z-index: 1;position: relative;background-color: white;}#sk-container-id-1 div.sk-parallel-item:first-child::after {align-self: flex-end;width: 50%;}#sk-container-id-1 div.sk-parallel-item:last-child::after {align-self: flex-start;width: 50%;}#sk-container-id-1 div.sk-parallel-item:only-child::after {width: 0;}#sk-container-id-1 div.sk-dashed-wrapped {border: 1px dashed gray;margin: 0 0.4em 0.5em 0.4em;box-sizing: border-box;padding-bottom: 0.4em;background-color: white;}#sk-container-id-1 div.sk-label label {font-family: monospace;font-weight: bold;display: inline-block;line-height: 1.2em;}#sk-container-id-1 div.sk-label-container {text-align: center;}#sk-container-id-1 div.sk-container {/* jupyter's `normalize.less` sets `[hidden] { display: none; }` but bootstrap.min.css set `[hidden] { display: none !important; }` so we also need the `!important` here to be able to override the default hidden behavior on the sphinx rendered scikit-learn.org. See: https://github.com/scikit-learn/scikit-learn/issues/21755 */display: inline-block !important;position: relative;}#sk-container-id-1 div.sk-text-repr-fallback {display: none;}</style><div id=\"sk-container-id-1\" class=\"sk-top-container\"><div class=\"sk-text-repr-fallback\"><pre>LinearRegression()</pre><b>In a Jupyter environment, please rerun this cell to show the HTML representation or trust the notebook. <br />On GitHub, the HTML representation is unable to render, please try loading this page with nbviewer.org.</b></div><div class=\"sk-container\" hidden><div class=\"sk-item\"><div class=\"sk-estimator sk-toggleable\"><input class=\"sk-toggleable__control sk-hidden--visually\" id=\"sk-estimator-id-1\" type=\"checkbox\" checked><label for=\"sk-estimator-id-1\" class=\"sk-toggleable__label sk-toggleable__label-arrow\">LinearRegression</label><div class=\"sk-toggleable__content\"><pre>LinearRegression()</pre></div></div></div></div></div>"
      ],
      "text/plain": [
       "LinearRegression()"
      ]
     },
     "execution_count": 11,
     "metadata": {},
     "output_type": "execute_result"
    }
   ],
   "source": [
    "linear_model = LinearRegression()\n",
    "\n",
    "# Train the model on the training data\n",
    "linear_model.fit(train_df.drop('fare_amount', axis=1), train_df['fare_amount'])"
   ]
  },
  {
   "cell_type": "code",
   "execution_count": 12,
   "id": "86430c9e-fd35-43cc-a085-13f1ea32785a",
   "metadata": {},
   "outputs": [
    {
     "name": "stdout",
     "output_type": "stream",
     "text": [
      "Linear Regression Performance on Validation Set:\n",
      "MAE: 0.006031270673234526\n",
      "MSE: 8.860397674639517e-05\n",
      "RMSE: 0.009412968540603712\n",
      "R-squared: 0.9999114370082005\n"
     ]
    }
   ],
   "source": [
    "# Predict on the validation data\n",
    "val_predictions = linear_model.predict(validation_df.drop('fare_amount', axis=1))\n",
    "\n",
    "# Evaluate the model's performance\n",
    "mae = mean_absolute_error(validation_df['fare_amount'], val_predictions)\n",
    "mse = mean_squared_error(validation_df['fare_amount'], val_predictions)\n",
    "rmse = mse ** 0.5\n",
    "r2 = r2_score(validation_df['fare_amount'], val_predictions)\n",
    "\n",
    "print(f\"Linear Regression Performance on Validation Set:\")\n",
    "print(f\"MAE: {mae}\")\n",
    "print(f\"MSE: {mse}\")\n",
    "print(f\"RMSE: {rmse}\")\n",
    "print(f\"R-squared: {r2}\")"
   ]
  },
  {
   "cell_type": "markdown",
   "id": "bc2fa267-4a8d-4fe8-b0cc-808f6d399594",
   "metadata": {},
   "source": [
    "## Scatter Plot: Actual vs. Predicted Values"
   ]
  },
  {
   "cell_type": "code",
   "execution_count": 28,
   "id": "85da7ebb-b681-4312-a886-fdcf4e1039ea",
   "metadata": {},
   "outputs": [
    {
     "data": {
      "image/png": "[encoded data removed]",
      "text/plain": [
       "<Figure size 1000x600 with 1 Axes>"
      ]
     },
     "metadata": {},
     "output_type": "display_data"
    }
   ],
   "source": [
    "import matplotlib.pyplot as plt\n",
    "import seaborn as sns\n",
    "\n",
    "# Scatter plot\n",
    "plt.figure(figsize=(10, 6))\n",
    "sns.scatterplot(x=validation_df['fare_amount'], y=val_predictions, alpha=0.5)\n",
    "\n",
    "# Adding a diagonal line for perfect prediction\n",
    "plt.plot([validation_df['fare_amount'].min(), validation_df['fare_amount'].max()],\n",
    "         [validation_df['fare_amount'].min(), validation_df['fare_amount'].max()],\n",
    "         color='red', linestyle='--')\n",
    "\n",
    "plt.xlabel('Actual Fare Amount')\n",
    "plt.ylabel('Predicted Fare Amount')\n",
    "plt.title('Actual vs Predicted Fare Amounts')\n",
    "plt.show()"
   ]
  },
  {
   "cell_type": "markdown",
   "id": "daaddb92-b610-4c83-a9e5-3e36bd2af568",
   "metadata": {},
   "source": [
    "## Residual Plot: Prediction Errors"
   ]
  },
  {
   "cell_type": "code",
   "execution_count": 29,
   "id": "a2c97d1e-1748-493d-9921-b4764584ccf8",
   "metadata": {},
   "outputs": [
    {
     "data": {
      "image/png": "[encoded data removed]",
      "text/plain": [
       "<Figure size 1000x600 with 1 Axes>"
      ]
     },
     "metadata": {},
     "output_type": "display_data"
    }
   ],
   "source": [
    "# Residuals\n",
    "residuals = validation_df['fare_amount'] - val_predictions\n",
    "\n",
    "# Residual plot\n",
    "plt.figure(figsize=(10, 6))\n",
    "sns.histplot(residuals, kde=True, color='blue', bins=50)\n",
    "\n",
    "plt.xlabel('Residuals')\n",
    "plt.ylabel('Frequency')\n",
    "plt.title('Distribution of Residuals')\n",
    "plt.show()"
   ]
  },
  {
   "cell_type": "markdown",
   "id": "e38dbaa4-0a0f-4b20-8419-aec96db972ac",
   "metadata": {},
   "source": [
    "## Error Metrics Bar Chart"
   ]
  },
  {
   "cell_type": "code",
   "execution_count": 30,
   "id": "c1d2b870-724d-4036-8938-615121031da2",
   "metadata": {},
   "outputs": [
    {
     "name": "stderr",
     "output_type": "stream",
     "text": [
      "C:\\Users\\Lenovo\\AppData\\Local\\Temp\\ipykernel_16416\\2344191398.py:6: FutureWarning: \n",
      "\n",
      "Passing `palette` without assigning `hue` is deprecated and will be removed in v0.14.0. Assign the `x` variable to `hue` and set `legend=False` for the same effect.\n",
      "\n",
      "  sns.barplot(x=list(metrics.keys()), y=list(metrics.values()), palette='viridis')\n"
     ]
    },
    {
     "data": {
      "image/png": "[encoded data removed]",
      "text/plain": [
       "<Figure size 800x500 with 1 Axes>"
      ]
     },
     "metadata": {},
     "output_type": "display_data"
    }
   ],
   "source": [
    "# Error metrics\n",
    "metrics = {'MAE': mae, 'MSE': mse, 'RMSE': rmse}\n",
    "\n",
    "# Bar chart\n",
    "plt.figure(figsize=(8, 5))\n",
    "sns.barplot(x=list(metrics.keys()), y=list(metrics.values()), palette='viridis')\n",
    "\n",
    "plt.ylabel('Error Value')\n",
    "plt.title('Error Metrics for Linear Regression')\n",
    "plt.show()"
   ]
  },
  {
   "cell_type": "markdown",
   "id": "f266c10e-689b-46d3-8db7-c3d7a30837ca",
   "metadata": {},
   "source": [
    "## Evaluate the model on the Test Set"
   ]
  },
  {
   "cell_type": "code",
   "execution_count": 31,
   "id": "8f322ed5-63cd-410d-9291-cd40a13dfd45",
   "metadata": {},
   "outputs": [
    {
     "name": "stdout",
     "output_type": "stream",
     "text": [
      "Linear Regression Performance on Test Set:\n",
      "MAE: 0.0060328186565582476\n",
      "MSE: 8.768428771011903e-05\n",
      "RMSE: 0.009363988878150114\n",
      "R-squared: 0.999912296784594\n"
     ]
    }
   ],
   "source": [
    "test_predictions = linear_model.predict(test_df.drop('fare_amount', axis=1))\n",
    "\n",
    "# Evaluate the model's performance on the test set\n",
    "test_mae = mean_absolute_error(test_df['fare_amount'], test_predictions)\n",
    "test_mse = mean_squared_error(test_df['fare_amount'], test_predictions)\n",
    "test_rmse = test_mse ** 0.5\n",
    "test_r2 = r2_score(test_df['fare_amount'], test_predictions)\n",
    "\n",
    "# Display the results\n",
    "print(f\"Linear Regression Performance on Test Set:\")\n",
    "print(f\"MAE: {test_mae}\")\n",
    "print(f\"MSE: {test_mse}\")\n",
    "print(f\"RMSE: {test_rmse}\")\n",
    "print(f\"R-squared: {test_r2}\")"
   ]
  },
  {
   "cell_type": "markdown",
   "id": "f85cf312-8baa-47c5-9186-a93c06a4e614",
   "metadata": {},
   "source": [
    "## Scatter plot of actual vs predicted values on test set"
   ]
  },
  {
   "cell_type": "code",
   "execution_count": 32,
   "id": "da5196d2-ac4f-468f-be1d-94f176910ed4",
   "metadata": {},
   "outputs": [
    {
     "data": {
      "image/png": "[encoded data removed]",
      "text/plain": [
       "<Figure size 1000x600 with 1 Axes>"
      ]
     },
     "metadata": {},
     "output_type": "display_data"
    }
   ],
   "source": [
    "plt.figure(figsize=(10, 6))\n",
    "plt.scatter(test_df['fare_amount'], test_predictions, alpha=0.5)\n",
    "plt.plot([test_df['fare_amount'].min(), test_df['fare_amount'].max()],\n",
    "         [test_df['fare_amount'].min(), test_df['fare_amount'].max()],\n",
    "         'r', lw=2)\n",
    "plt.title('Actual vs Predicted Fare Amounts (Test Set)')\n",
    "plt.xlabel('Actual Fare Amount')\n",
    "plt.ylabel('Predicted Fare Amount')\n",
    "plt.show()"
   ]
  },
  {
   "cell_type": "markdown",
   "id": "fb52c027-5832-4ee5-991a-41be6ff0ccdd",
   "metadata": {},
   "source": [
    "## Residual plot on test set"
   ]
  },
  {
   "cell_type": "code",
   "execution_count": 33,
   "id": "b79e1e30-4591-4490-96fa-147bd142a5fa",
   "metadata": {},
   "outputs": [
    {
     "data": {
      "image/png": "[encoded data removed]",
      "text/plain": [
       "<Figure size 1000x600 with 1 Axes>"
      ]
     },
     "metadata": {},
     "output_type": "display_data"
    }
   ],
   "source": [
    "residuals = test_df['fare_amount'] - test_predictions\n",
    "plt.figure(figsize=(10, 6))\n",
    "sns.histplot(residuals, bins=50, kde=True)\n",
    "plt.title('Residuals Distribution (Test Set)')\n",
    "plt.xlabel('Residuals')\n",
    "plt.ylabel('Frequency')\n",
    "plt.show()"
   ]
  },
  {
   "cell_type": "markdown",
   "id": "341daeb8-f7b1-48c7-b4c3-b0d51a9d2103",
   "metadata": {},
   "source": [
    "## Error metrics bar chart on test set"
   ]
  },
  {
   "cell_type": "code",
   "execution_count": 34,
   "id": "d8570bf4-6700-401a-ac5a-13f773db9a47",
   "metadata": {},
   "outputs": [
    {
     "data": {
      "image/png": "[encoded data removed]",
      "text/plain": [
       "<Figure size 1000x600 with 1 Axes>"
      ]
     },
     "metadata": {},
     "output_type": "display_data"
    }
   ],
   "source": [
    "metrics_df = pd.DataFrame({\n",
    "    'Metric': ['MAE', 'MSE', 'RMSE', 'R-squared'],\n",
    "    'Value': [test_mae, test_mse, test_rmse, test_r2]\n",
    "})\n",
    "\n",
    "plt.figure(figsize=(10, 6))\n",
    "sns.barplot(x='Metric', y='Value', data=metrics_df)\n",
    "plt.title('Error Metrics on Test Set')\n",
    "plt.show()"
   ]
  },
  {
   "cell_type": "markdown",
   "id": "8ae0db43-a92b-4b03-b9a5-e1808771e69e",
   "metadata": {},
   "source": [
    "# Linear Regression Model Analysis\n",
    "\n",
    "## Overview\n",
    "This notebook presents an analysis of a linear regression model used to predict fare amounts. We'll examine the model's performance through various metrics and visualizations.\n",
    "\n",
    "## Error Metrics\n",
    "\n",
    "Our model's performance is characterized by three key error metrics:\n",
    "\n",
    "- **Mean Absolute Error (MAE)**: ~0.006\n",
    "- **Mean Squared Error (MSE)**: Very close to 0\n",
    "- **Root Mean Square Error (RMSE)**: ~0.009\n",
    "\n",
    "### Insights\n",
    "- The low MAE indicates that, on average, our predictions deviate from actual values by about 0.006 units.\n",
    "- The near-zero MSE suggests that large errors are infrequent.\n",
    "- RMSE being larger than MAE hints at the presence of some outliers or larger errors.\n",
    "\n",
    "## Residual Analysis\n",
    "\n",
    "\n",
    "The distribution of residuals (differences between predicted and actual values) provides valuable insights:\n",
    "\n",
    "- Highly concentrated around zero with a sharp peak\n",
    "- Slightly positively skewed\n",
    "- Range: approximately -0.2 to 0.3, with most falling between -0.05 and 0.05\n",
    "\n",
    "### Insights\n",
    "- The concentration around zero indicates generally small errors.\n",
    "- The slight positive skew suggests a minor tendency to underestimate values.\n",
    "\n",
    "## Actual vs Predicted Values\n",
    "\n",
    "\n",
    "This scatter plot compares actual fare amounts to our model's predictions:\n",
    "\n",
    "- Strong linear relationship evident from tight clustering around the diagonal\n",
    "- Consistent performance across the fare range (-2 to 4 units)\n",
    "- Some outliers present, particularly for higher fare amounts\n",
    "\n",
    "### Insights\n",
    "- Excellent predictive performance across most of the data range\n",
    "- Slight underperformance for some high-value fares\n",
    "\n",
    "## Interpretation and Implications\n",
    "\n",
    "1. The model demonstrates good fit for predicting fare amounts, with small and symmetrically distributed errors.\n",
    "2. Performance is consistent across most of the fare range, indicating reliability for pricing or forecasting.\n",
    "3. The tendency to underestimate higher fare amounts may require attention if accuracy in this range is crucial.\n",
    "\n",
    "## Suggestions for Further Analysis\n",
    "\n",
    "1. Investigate factors contributing to outliers, especially in higher fare amounts.\n",
    "2. Conduct feature importance analysis to identify key variables influencing fare prediction.\n",
    "3. Explore non-linear models or ensemble methods to potentially improve performance, particularly for high-value fares.\n",
    "\n",
    "## Limitations and Potential Biases\n",
    "\n",
    "- Slight bias towards underestimation, particularly for higher fares.\n",
    "- Minor deviations from perfect normality in residual distribution may affect certain statistical inferences.\n",
    "\n",
    "## Summary\n",
    "\n",
    "Our linear regression model shows strong predictive performance for fare amounts, characterized by low error metrics and a good fit between actual and predicted values. It performs consistently across most of the fare range but may benefit from refinement for accurately predicting some higher-value fares. The slight positive skew in residuals suggests a minor tendency towards underestimation. Overall, the model appears suitable for its intended purpose, with potential for further optimization in handling outliers and high-value predictions."
   ]
  },
  {
   "cell_type": "markdown",
   "id": "191dfab6-fb21-4c6e-b845-bdb20671cea1",
   "metadata": {},
   "source": [
    "---"
   ]
  },
  {
   "cell_type": "markdown",
   "id": "e173d3c8-32b3-43ed-8d6b-dc10dd625655",
   "metadata": {},
   "source": [
    "# Data Analysis and Model Optimization Workflow\n",
    "\n",
    "This notebook outlines a comprehensive approach to analyze and optimize our predictive model. We'll go through several key steps to ensure our model is robust, accurate, and interpretable.\n",
    "\n",
    "## 1. Feature Importance Analysis\n",
    "\n",
    "We begin by analyzing feature importance to understand which features contribute most significantly to our predictions.\n",
    "\n",
    "**Why this step is important:** This analysis helps us identify the most influential features in our model, allowing us to focus on the most impactful variables and potentially simplify our model.\n",
    "\n",
    "## 2. Multicollinearity Check\n",
    "\n",
    "Next, we'll check for multicollinearity using Variance Inflation Factor (VIF).\n",
    "\n",
    "**Why this step is important:** \n",
    "- Assesses correlation between independent variables in the regression model\n",
    "- VIF values > 10 indicate high multicollinearity and should be addressed\n",
    "- High multicollinearity can distort coefficient estimates and inflate standard errors, leading to unreliable statistical inference\n",
    "\n",
    "## 3. Cross-Validation\n",
    "\n",
    "We'll perform cross-validation to assess our model's performance and reliability.\n",
    "\n",
    "**Why this step is important:** Cross-validation helps us analyze whether the model's performance is consistent and its accuracy can be trusted across different subsets of the data.\n",
    "\n",
    "## 4. Residual Analysis\n",
    "\n",
    "Residual analysis helps us check if the assumptions of linear regression are met.\n",
    "\n",
    "**Why this step is important:**\n",
    "- Checks key assumptions: Linearity, Independence, Homoscedasticity, and Normality\n",
    "- Helps validate the model's appropriateness\n",
    "- Can suggest improvements or alternative modeling approaches if assumptions are violated\n",
    "\n",
    "## 5. Non-Linear Models\n",
    "\n",
    "We'll explore non-linear models, such as Random Forests, to capture more complex relationships in the data.\n",
    "\n",
    "**Why this step is important:**\n",
    "- Ensures we're not missing out on potentially better models\n",
    "- Can capture non-linear relationships between features and the target variable\n",
    "\n",
    "## 6. Feature Engineering\n",
    "\n",
    "This step involves creating new features from existing ones, such as polynomial features.\n",
    "\n",
    "**Why this step is important:**\n",
    "- Helps the model capture more complex patterns in the data\n",
    "- Can reveal higher-order relationships that improve predictions\n",
    "\n",
    "## 7. Model Interpretation\n",
    "\n",
    "Finally, we'll use SHAP (SHapley Additive exPlanations) values to interpret our model's predictions.\n",
    "\n",
    "**Why this step is important:**\n",
    "- Provides insights into individual predictions\n",
    "- Shows how much each feature contributes to each prediction\n",
    "- Helps build trust in the model and reveals unexpected relationships in the data\n",
    "\n",
    "## Conclusion\n",
    "\n",
    "By following these steps, we ensure a thorough analysis of our data and model. This process helps us build a robust, accurate, and interpretable predictive model that we can confidently use for decision-making."
   ]
  },
  {
   "cell_type": "markdown",
   "id": "e62a8e6e-f761-4a93-9705-e454aa924a97",
   "metadata": {},
   "source": [
    "---"
   ]
  },
  {
   "cell_type": "markdown",
   "id": "ee3b3c22-f06f-4880-bf4e-1b326140818d",
   "metadata": {},
   "source": [
    "### Analyzing the feature importance (Which features are contributing the most)"
   ]
  },
  {
   "cell_type": "code",
   "execution_count": 36,
   "id": "2d7473d2-3512-46f2-a9c2-95e6c5148321",
   "metadata": {},
   "outputs": [],
   "source": [
    "feature_importance = pd.DataFrame({\n",
    "    'feature': train_df.drop('fare_amount', axis=1).columns,\n",
    "    'importance': abs(linear_model.coef_)\n",
    "}).sort_values('importance', ascending=False)"
   ]
  },
  {
   "cell_type": "code",
   "execution_count": 37,
   "id": "a0bd95dc-3e9c-4072-a0e6-18ce036e5621",
   "metadata": {},
   "outputs": [],
   "source": [
    "imp = feature_importance.sort_values(['importance'], ascending = [0])"
   ]
  },
  {
   "cell_type": "code",
   "execution_count": 38,
   "id": "4e8f6602-bf8b-44f7-aaca-7a228656818a",
   "metadata": {},
   "outputs": [
    {
     "data": {
      "text/html": [
       "<div>\n",
       "<style scoped>\n",
       "    .dataframe tbody tr th:only-of-type {\n",
       "        vertical-align: middle;\n",
       "    }\n",
       "\n",
       "    .dataframe tbody tr th {\n",
       "        vertical-align: top;\n",
       "    }\n",
       "\n",
       "    .dataframe thead th {\n",
       "        text-align: right;\n",
       "    }\n",
       "</style>\n",
       "<table border=\"1\" class=\"dataframe\">\n",
       "  <thead>\n",
       "    <tr style=\"text-align: right;\">\n",
       "      <th></th>\n",
       "      <th>feature</th>\n",
       "      <th>importance</th>\n",
       "    </tr>\n",
       "  </thead>\n",
       "  <tbody>\n",
       "    <tr>\n",
       "      <th>20</th>\n",
       "      <td>pickup_hour</td>\n",
       "      <td>7.076444e+06</td>\n",
       "    </tr>\n",
       "    <tr>\n",
       "      <th>38</th>\n",
       "      <td>hour</td>\n",
       "      <td>7.076444e+06</td>\n",
       "    </tr>\n",
       "    <tr>\n",
       "      <th>22</th>\n",
       "      <td>pickup_month</td>\n",
       "      <td>2.151065e+04</td>\n",
       "    </tr>\n",
       "    <tr>\n",
       "      <th>39</th>\n",
       "      <td>month</td>\n",
       "      <td>2.151065e+04</td>\n",
       "    </tr>\n",
       "    <tr>\n",
       "      <th>30</th>\n",
       "      <td>log_fare_amount</td>\n",
       "      <td>1.418988e+00</td>\n",
       "    </tr>\n",
       "    <tr>\n",
       "      <th>28</th>\n",
       "      <td>log_trip_distance</td>\n",
       "      <td>7.018901e-01</td>\n",
       "    </tr>\n",
       "    <tr>\n",
       "      <th>1</th>\n",
       "      <td>trip_distance</td>\n",
       "      <td>5.125023e-01</td>\n",
       "    </tr>\n",
       "    <tr>\n",
       "      <th>34</th>\n",
       "      <td>boxcox_fare_amount</td>\n",
       "      <td>4.179568e-01</td>\n",
       "    </tr>\n",
       "    <tr>\n",
       "      <th>32</th>\n",
       "      <td>boxcox_trip_distance</td>\n",
       "      <td>1.827353e-01</td>\n",
       "    </tr>\n",
       "    <tr>\n",
       "      <th>16</th>\n",
       "      <td>ratecode_group_ride</td>\n",
       "      <td>2.809404e-02</td>\n",
       "    </tr>\n",
       "    <tr>\n",
       "      <th>29</th>\n",
       "      <td>log_trip_duration</td>\n",
       "      <td>1.102406e-02</td>\n",
       "    </tr>\n",
       "    <tr>\n",
       "      <th>27</th>\n",
       "      <td>trip_duration</td>\n",
       "      <td>8.767058e-03</td>\n",
       "    </tr>\n",
       "    <tr>\n",
       "      <th>15</th>\n",
       "      <td>ratecode_negotiated_fare</td>\n",
       "      <td>7.202127e-03</td>\n",
       "    </tr>\n",
       "    <tr>\n",
       "      <th>37</th>\n",
       "      <td>tip_amount_transformed</td>\n",
       "      <td>5.745397e-03</td>\n",
       "    </tr>\n",
       "    <tr>\n",
       "      <th>36</th>\n",
       "      <td>tip_given</td>\n",
       "      <td>4.609364e-03</td>\n",
       "    </tr>\n",
       "    <tr>\n",
       "      <th>4</th>\n",
       "      <td>payment_type</td>\n",
       "      <td>4.182765e-03</td>\n",
       "    </tr>\n",
       "    <tr>\n",
       "      <th>35</th>\n",
       "      <td>boxcox_tip_amount</td>\n",
       "      <td>3.884990e-03</td>\n",
       "    </tr>\n",
       "    <tr>\n",
       "      <th>19</th>\n",
       "      <td>ratecode_special_rates</td>\n",
       "      <td>3.860285e-03</td>\n",
       "    </tr>\n",
       "    <tr>\n",
       "      <th>31</th>\n",
       "      <td>log_tip_amount</td>\n",
       "      <td>3.512792e-03</td>\n",
       "    </tr>\n",
       "    <tr>\n",
       "      <th>12</th>\n",
       "      <td>fare_per_mile</td>\n",
       "      <td>3.468662e-03</td>\n",
       "    </tr>\n",
       "    <tr>\n",
       "      <th>26</th>\n",
       "      <td>same_zone</td>\n",
       "      <td>2.816582e-03</td>\n",
       "    </tr>\n",
       "    <tr>\n",
       "      <th>18</th>\n",
       "      <td>ratecode_other</td>\n",
       "      <td>2.315823e-03</td>\n",
       "    </tr>\n",
       "    <tr>\n",
       "      <th>33</th>\n",
       "      <td>boxcox_trip_duration</td>\n",
       "      <td>2.179769e-03</td>\n",
       "    </tr>\n",
       "    <tr>\n",
       "      <th>25</th>\n",
       "      <td>is_weekend</td>\n",
       "      <td>4.289301e-04</td>\n",
       "    </tr>\n",
       "    <tr>\n",
       "      <th>13</th>\n",
       "      <td>avg_fare_per_pulocation</td>\n",
       "      <td>4.228066e-04</td>\n",
       "    </tr>\n",
       "    <tr>\n",
       "      <th>24</th>\n",
       "      <td>is_peak_hour</td>\n",
       "      <td>3.483132e-04</td>\n",
       "    </tr>\n",
       "    <tr>\n",
       "      <th>14</th>\n",
       "      <td>avg_fare_per_dolocation</td>\n",
       "      <td>3.181258e-04</td>\n",
       "    </tr>\n",
       "    <tr>\n",
       "      <th>41</th>\n",
       "      <td>pickup_longitude</td>\n",
       "      <td>2.414532e-04</td>\n",
       "    </tr>\n",
       "    <tr>\n",
       "      <th>6</th>\n",
       "      <td>mta_tax</td>\n",
       "      <td>2.409816e-04</td>\n",
       "    </tr>\n",
       "    <tr>\n",
       "      <th>42</th>\n",
       "      <td>dropoff_latitude</td>\n",
       "      <td>2.315694e-04</td>\n",
       "    </tr>\n",
       "    <tr>\n",
       "      <th>17</th>\n",
       "      <td>ratecode_shared_ride</td>\n",
       "      <td>2.176759e-04</td>\n",
       "    </tr>\n",
       "    <tr>\n",
       "      <th>5</th>\n",
       "      <td>extra</td>\n",
       "      <td>1.923432e-04</td>\n",
       "    </tr>\n",
       "    <tr>\n",
       "      <th>7</th>\n",
       "      <td>tip_amount</td>\n",
       "      <td>1.388564e-04</td>\n",
       "    </tr>\n",
       "    <tr>\n",
       "      <th>43</th>\n",
       "      <td>dropoff_longitude</td>\n",
       "      <td>9.011448e-05</td>\n",
       "    </tr>\n",
       "    <tr>\n",
       "      <th>10</th>\n",
       "      <td>congestion_surcharge</td>\n",
       "      <td>7.326741e-05</td>\n",
       "    </tr>\n",
       "    <tr>\n",
       "      <th>23</th>\n",
       "      <td>pickup_day_of_week</td>\n",
       "      <td>5.160658e-05</td>\n",
       "    </tr>\n",
       "    <tr>\n",
       "      <th>9</th>\n",
       "      <td>improvement_surcharge</td>\n",
       "      <td>4.995361e-05</td>\n",
       "    </tr>\n",
       "    <tr>\n",
       "      <th>11</th>\n",
       "      <td>tip_percentage</td>\n",
       "      <td>2.948726e-05</td>\n",
       "    </tr>\n",
       "    <tr>\n",
       "      <th>8</th>\n",
       "      <td>tolls_amount</td>\n",
       "      <td>1.248550e-05</td>\n",
       "    </tr>\n",
       "    <tr>\n",
       "      <th>40</th>\n",
       "      <td>pickup_latitude</td>\n",
       "      <td>1.182787e-05</td>\n",
       "    </tr>\n",
       "    <tr>\n",
       "      <th>0</th>\n",
       "      <td>passenger_count</td>\n",
       "      <td>9.782298e-06</td>\n",
       "    </tr>\n",
       "    <tr>\n",
       "      <th>21</th>\n",
       "      <td>pickup_day</td>\n",
       "      <td>8.024727e-06</td>\n",
       "    </tr>\n",
       "    <tr>\n",
       "      <th>3</th>\n",
       "      <td>DOLocationID</td>\n",
       "      <td>7.781395e-07</td>\n",
       "    </tr>\n",
       "    <tr>\n",
       "      <th>2</th>\n",
       "      <td>PULocationID</td>\n",
       "      <td>1.426962e-07</td>\n",
       "    </tr>\n",
       "  </tbody>\n",
       "</table>\n",
       "</div>"
      ],
      "text/plain": [
       "                     feature    importance\n",
       "20               pickup_hour  7.076444e+06\n",
       "38                      hour  7.076444e+06\n",
       "22              pickup_month  2.151065e+04\n",
       "39                     month  2.151065e+04\n",
       "30           log_fare_amount  1.418988e+00\n",
       "28         log_trip_distance  7.018901e-01\n",
       "1              trip_distance  5.125023e-01\n",
       "34        boxcox_fare_amount  4.179568e-01\n",
       "32      boxcox_trip_distance  1.827353e-01\n",
       "16       ratecode_group_ride  2.809404e-02\n",
       "29         log_trip_duration  1.102406e-02\n",
       "27             trip_duration  8.767058e-03\n",
       "15  ratecode_negotiated_fare  7.202127e-03\n",
       "37    tip_amount_transformed  5.745397e-03\n",
       "36                 tip_given  4.609364e-03\n",
       "4               payment_type  4.182765e-03\n",
       "35         boxcox_tip_amount  3.884990e-03\n",
       "19    ratecode_special_rates  3.860285e-03\n",
       "31            log_tip_amount  3.512792e-03\n",
       "12             fare_per_mile  3.468662e-03\n",
       "26                 same_zone  2.816582e-03\n",
       "18            ratecode_other  2.315823e-03\n",
       "33      boxcox_trip_duration  2.179769e-03\n",
       "25                is_weekend  4.289301e-04\n",
       "13   avg_fare_per_pulocation  4.228066e-04\n",
       "24              is_peak_hour  3.483132e-04\n",
       "14   avg_fare_per_dolocation  3.181258e-04\n",
       "41          pickup_longitude  2.414532e-04\n",
       "6                    mta_tax  2.409816e-04\n",
       "42          dropoff_latitude  2.315694e-04\n",
       "17      ratecode_shared_ride  2.176759e-04\n",
       "5                      extra  1.923432e-04\n",
       "7                 tip_amount  1.388564e-04\n",
       "43         dropoff_longitude  9.011448e-05\n",
       "10      congestion_surcharge  7.326741e-05\n",
       "23        pickup_day_of_week  5.160658e-05\n",
       "9      improvement_surcharge  4.995361e-05\n",
       "11            tip_percentage  2.948726e-05\n",
       "8               tolls_amount  1.248550e-05\n",
       "40           pickup_latitude  1.182787e-05\n",
       "0            passenger_count  9.782298e-06\n",
       "21                pickup_day  8.024727e-06\n",
       "3               DOLocationID  7.781395e-07\n",
       "2               PULocationID  1.426962e-07"
      ]
     },
     "execution_count": 38,
     "metadata": {},
     "output_type": "execute_result"
    }
   ],
   "source": [
    "imp #Will look into the interpretation of these values later on"
   ]
  },
  {
   "cell_type": "markdown",
   "id": "ed6ece0c-e743-418c-bb3e-ec119296e14b",
   "metadata": {},
   "source": [
    "### Calculating the Multicollinearity "
   ]
  },
  {
   "cell_type": "code",
   "execution_count": 13,
   "id": "5748c491-f30b-490e-834a-8cadf77a9497",
   "metadata": {},
   "outputs": [],
   "source": [
    "chunk_size = 500000\n",
    "# Initialize an empty list to collect chunks\n",
    "chunks = []\n",
    "for chunk in pd.read_csv('scaled_eda1.csv', chunksize=chunk_size):\n",
    "    chunks.append(chunk)\n",
    "#Convert to dataframe\n",
    "df3 = pd.concat(chunks, ignore_index=True)"
   ]
  },
  {
   "cell_type": "code",
   "execution_count": 14,
   "id": "cfd298c4-c24b-4573-baad-0666fce78395",
   "metadata": {},
   "outputs": [
    {
     "data": {
      "text/html": [
       "<div>\n",
       "<style scoped>\n",
       "    .dataframe tbody tr th:only-of-type {\n",
       "        vertical-align: middle;\n",
       "    }\n",
       "\n",
       "    .dataframe tbody tr th {\n",
       "        vertical-align: top;\n",
       "    }\n",
       "\n",
       "    .dataframe thead th {\n",
       "        text-align: right;\n",
       "    }\n",
       "</style>\n",
       "<table border=\"1\" class=\"dataframe\">\n",
       "  <thead>\n",
       "    <tr style=\"text-align: right;\">\n",
       "      <th></th>\n",
       "      <th>passenger_count</th>\n",
       "      <th>trip_distance</th>\n",
       "      <th>PULocationID</th>\n",
       "      <th>DOLocationID</th>\n",
       "      <th>payment_type</th>\n",
       "      <th>fare_amount</th>\n",
       "      <th>extra</th>\n",
       "      <th>mta_tax</th>\n",
       "      <th>tip_amount</th>\n",
       "      <th>tolls_amount</th>\n",
       "      <th>...</th>\n",
       "      <th>boxcox_fare_amount</th>\n",
       "      <th>boxcox_tip_amount</th>\n",
       "      <th>tip_given</th>\n",
       "      <th>tip_amount_transformed</th>\n",
       "      <th>hour</th>\n",
       "      <th>month</th>\n",
       "      <th>pickup_latitude</th>\n",
       "      <th>pickup_longitude</th>\n",
       "      <th>dropoff_latitude</th>\n",
       "      <th>dropoff_longitude</th>\n",
       "    </tr>\n",
       "  </thead>\n",
       "  <tbody>\n",
       "    <tr>\n",
       "      <th>0</th>\n",
       "      <td>1.0</td>\n",
       "      <td>-0.446200</td>\n",
       "      <td>238</td>\n",
       "      <td>239</td>\n",
       "      <td>1.0</td>\n",
       "      <td>-0.767335</td>\n",
       "      <td>1.527338</td>\n",
       "      <td>0.038378</td>\n",
       "      <td>-0.141140</td>\n",
       "      <td>-0.032898</td>\n",
       "      <td>...</td>\n",
       "      <td>-0.767968</td>\n",
       "      <td>0.007112</td>\n",
       "      <td>1</td>\n",
       "      <td>0.410110</td>\n",
       "      <td>0</td>\n",
       "      <td>1</td>\n",
       "      <td>1.551130</td>\n",
       "      <td>0.252161</td>\n",
       "      <td>1.121102</td>\n",
       "      <td>-0.069330</td>\n",
       "    </tr>\n",
       "    <tr>\n",
       "      <th>1</th>\n",
       "      <td>1.0</td>\n",
       "      <td>-0.446200</td>\n",
       "      <td>239</td>\n",
       "      <td>238</td>\n",
       "      <td>1.0</td>\n",
       "      <td>-0.499769</td>\n",
       "      <td>1.527338</td>\n",
       "      <td>0.038378</td>\n",
       "      <td>-0.122839</td>\n",
       "      <td>-0.032898</td>\n",
       "      <td>...</td>\n",
       "      <td>-0.395814</td>\n",
       "      <td>0.029080</td>\n",
       "      <td>1</td>\n",
       "      <td>0.433048</td>\n",
       "      <td>0</td>\n",
       "      <td>1</td>\n",
       "      <td>1.212009</td>\n",
       "      <td>-0.012898</td>\n",
       "      <td>1.441136</td>\n",
       "      <td>0.187912</td>\n",
       "    </tr>\n",
       "    <tr>\n",
       "      <th>2</th>\n",
       "      <td>1.0</td>\n",
       "      <td>-1.057243</td>\n",
       "      <td>238</td>\n",
       "      <td>238</td>\n",
       "      <td>1.0</td>\n",
       "      <td>-0.767335</td>\n",
       "      <td>1.527338</td>\n",
       "      <td>0.038378</td>\n",
       "      <td>-0.427856</td>\n",
       "      <td>-0.032898</td>\n",
       "      <td>...</td>\n",
       "      <td>-0.767968</td>\n",
       "      <td>-0.362171</td>\n",
       "      <td>1</td>\n",
       "      <td>0.000000</td>\n",
       "      <td>0</td>\n",
       "      <td>1</td>\n",
       "      <td>1.551130</td>\n",
       "      <td>0.252161</td>\n",
       "      <td>1.441136</td>\n",
       "      <td>0.187912</td>\n",
       "    </tr>\n",
       "    <tr>\n",
       "      <th>3</th>\n",
       "      <td>1.0</td>\n",
       "      <td>-0.853562</td>\n",
       "      <td>238</td>\n",
       "      <td>151</td>\n",
       "      <td>1.0</td>\n",
       "      <td>-0.901117</td>\n",
       "      <td>-0.502998</td>\n",
       "      <td>0.038378</td>\n",
       "      <td>-0.208244</td>\n",
       "      <td>-0.032898</td>\n",
       "      <td>...</td>\n",
       "      <td>-0.970941</td>\n",
       "      <td>-0.074944</td>\n",
       "      <td>1</td>\n",
       "      <td>0.323179</td>\n",
       "      <td>0</td>\n",
       "      <td>1</td>\n",
       "      <td>1.551130</td>\n",
       "      <td>0.252161</td>\n",
       "      <td>1.699736</td>\n",
       "      <td>0.412787</td>\n",
       "    </tr>\n",
       "    <tr>\n",
       "      <th>4</th>\n",
       "      <td>1.0</td>\n",
       "      <td>-1.668286</td>\n",
       "      <td>193</td>\n",
       "      <td>193</td>\n",
       "      <td>2.0</td>\n",
       "      <td>-1.436249</td>\n",
       "      <td>-0.502998</td>\n",
       "      <td>0.038378</td>\n",
       "      <td>-1.037889</td>\n",
       "      <td>-0.032898</td>\n",
       "      <td>...</td>\n",
       "      <td>-1.917596</td>\n",
       "      <td>-1.397853</td>\n",
       "      <td>0</td>\n",
       "      <td>0.000000</td>\n",
       "      <td>0</td>\n",
       "      <td>1</td>\n",
       "      <td>0.176372</td>\n",
       "      <td>1.726368</td>\n",
       "      <td>0.143756</td>\n",
       "      <td>1.618643</td>\n",
       "    </tr>\n",
       "  </tbody>\n",
       "</table>\n",
       "<p>5 rows × 45 columns</p>\n",
       "</div>"
      ],
      "text/plain": [
       "   passenger_count  trip_distance  PULocationID  DOLocationID  payment_type  \\\n",
       "0              1.0      -0.446200           238           239           1.0   \n",
       "1              1.0      -0.446200           239           238           1.0   \n",
       "2              1.0      -1.057243           238           238           1.0   \n",
       "3              1.0      -0.853562           238           151           1.0   \n",
       "4              1.0      -1.668286           193           193           2.0   \n",
       "\n",
       "   fare_amount     extra   mta_tax  tip_amount  tolls_amount  ...  \\\n",
       "0    -0.767335  1.527338  0.038378   -0.141140     -0.032898  ...   \n",
       "1    -0.499769  1.527338  0.038378   -0.122839     -0.032898  ...   \n",
       "2    -0.767335  1.527338  0.038378   -0.427856     -0.032898  ...   \n",
       "3    -0.901117 -0.502998  0.038378   -0.208244     -0.032898  ...   \n",
       "4    -1.436249 -0.502998  0.038378   -1.037889     -0.032898  ...   \n",
       "\n",
       "   boxcox_fare_amount  boxcox_tip_amount  tip_given  tip_amount_transformed  \\\n",
       "0           -0.767968           0.007112          1                0.410110   \n",
       "1           -0.395814           0.029080          1                0.433048   \n",
       "2           -0.767968          -0.362171          1                0.000000   \n",
       "3           -0.970941          -0.074944          1                0.323179   \n",
       "4           -1.917596          -1.397853          0                0.000000   \n",
       "\n",
       "   hour  month  pickup_latitude  pickup_longitude  dropoff_latitude  \\\n",
       "0     0      1         1.551130          0.252161          1.121102   \n",
       "1     0      1         1.212009         -0.012898          1.441136   \n",
       "2     0      1         1.551130          0.252161          1.441136   \n",
       "3     0      1         1.551130          0.252161          1.699736   \n",
       "4     0      1         0.176372          1.726368          0.143756   \n",
       "\n",
       "   dropoff_longitude  \n",
       "0          -0.069330  \n",
       "1           0.187912  \n",
       "2           0.187912  \n",
       "3           0.412787  \n",
       "4           1.618643  \n",
       "\n",
       "[5 rows x 45 columns]"
      ]
     },
     "execution_count": 14,
     "metadata": {},
     "output_type": "execute_result"
    }
   ],
   "source": [
    "df3.head()"
   ]
  },
  {
   "cell_type": "code",
   "execution_count": 15,
   "id": "ab47b02d-40ff-4f3d-869f-f3d7f68fa62d",
   "metadata": {},
   "outputs": [],
   "source": [
    "from statsmodels.stats.outliers_influence import variance_inflation_factor"
   ]
  },
  {
   "cell_type": "code",
   "execution_count": 16,
   "id": "d2f60afb-096f-4708-92fe-1be7ac8ab3ec",
   "metadata": {},
   "outputs": [],
   "source": [
    "#Calculating the multicollinearity\n",
    "def calculate_vif(df):\n",
    "    for col in df.select_dtypes(include=['bool']):\n",
    "        df[col] = df[col].astype(int)\n",
    "\n",
    "    numeric_cols = df.select_dtypes(include=[np.number]).columns.tolist()\n",
    "    \n",
    "    vif_data = pd.DataFrame()\n",
    "    vif_data[\"feature\"] = numeric_cols\n",
    "    \n",
    "    # Calculate VIF for each numeric column\n",
    "    vif_data[\"VIF\"] = [variance_inflation_factor(df[numeric_cols].values, i) \n",
    "                       for i in range(len(numeric_cols))]\n",
    "    \n",
    "    return vif_data.sort_values('VIF', ascending=False)"
   ]
  },
  {
   "cell_type": "code",
   "execution_count": 17,
   "id": "e1b4a6a6-8af7-4532-b623-a52d3b0e8b14",
   "metadata": {},
   "outputs": [],
   "source": [
    "sample_df = df3.sample(n=100000, random_state=42)"
   ]
  },
  {
   "cell_type": "code",
   "execution_count": 18,
   "id": "5d067022-01eb-46c0-a549-06649a9fb8a4",
   "metadata": {},
   "outputs": [
    {
     "name": "stdout",
     "output_type": "stream",
     "text": [
      "True\n"
     ]
    }
   ],
   "source": [
    "print('fare_amount' in sample_df.columns)"
   ]
  },
  {
   "cell_type": "code",
   "execution_count": 19,
   "id": "7e17abb0-b319-456c-bc5a-e00554ff6ae6",
   "metadata": {},
   "outputs": [],
   "source": [
    "X = sample_df.drop('fare_amount', axis = True)"
   ]
  },
  {
   "cell_type": "code",
   "execution_count": 20,
   "id": "db09f2c7-0ca5-4fd5-b62b-af8db157a863",
   "metadata": {},
   "outputs": [
    {
     "name": "stdout",
     "output_type": "stream",
     "text": [
      "False\n"
     ]
    }
   ],
   "source": [
    "print('fare_amount' in X.columns)"
   ]
  },
  {
   "cell_type": "code",
   "execution_count": 21,
   "id": "dd57e8fb-54ec-4a64-9f0e-7622af178a13",
   "metadata": {},
   "outputs": [],
   "source": [
    "import numpy as np"
   ]
  },
  {
   "cell_type": "code",
   "execution_count": 22,
   "id": "2fb91883-f7b3-4d14-88a4-3dd4aaf9db05",
   "metadata": {},
   "outputs": [
    {
     "data": {
      "text/plain": [
       "{'divide': 'warn', 'over': 'warn', 'under': 'ignore', 'invalid': 'warn'}"
      ]
     },
     "execution_count": 22,
     "metadata": {},
     "output_type": "execute_result"
    }
   ],
   "source": [
    "np.seterr(divide='ignore', invalid='ignore')"
   ]
  },
  {
   "cell_type": "code",
   "execution_count": 23,
   "id": "38a46e7d-9876-4f12-9bc3-3aab3ddee202",
   "metadata": {},
   "outputs": [],
   "source": [
    "vif_results = calculate_vif(X)"
   ]
  },
  {
   "cell_type": "code",
   "execution_count": 24,
   "id": "1db71601-0242-4e01-b180-379bef3bf57f",
   "metadata": {},
   "outputs": [
    {
     "name": "stdout",
     "output_type": "stream",
     "text": [
      "                     feature           VIF\n",
      "22              pickup_month           inf\n",
      "39                     month           inf\n",
      "20               pickup_hour           inf\n",
      "38                      hour           inf\n",
      "29         log_trip_duration  5.712868e+05\n",
      "33      boxcox_trip_duration  3.139006e+05\n",
      "27             trip_duration  3.929264e+04\n",
      "28         log_trip_distance  1.746181e+04\n",
      "1              trip_distance  9.766191e+03\n",
      "31            log_tip_amount  1.398144e+03\n",
      "32      boxcox_trip_distance  1.281625e+03\n",
      "35         boxcox_tip_amount  1.027965e+03\n",
      "36                 tip_given  3.657571e+02\n",
      "37    tip_amount_transformed  2.251171e+02\n",
      "30           log_fare_amount  1.335487e+02\n",
      "34        boxcox_fare_amount  1.086766e+02\n",
      "4               payment_type  9.349011e+01\n",
      "11            tip_percentage  2.458422e+01\n",
      "7                 tip_amount  1.851295e+01\n",
      "23        pickup_day_of_week  8.299325e+00\n",
      "2               PULocationID  8.178384e+00\n",
      "3               DOLocationID  7.572119e+00\n",
      "12             fare_per_mile  5.087013e+00\n",
      "21                pickup_day  4.677226e+00\n",
      "25                is_weekend  3.073313e+00\n",
      "42          dropoff_latitude  3.068087e+00\n",
      "40           pickup_latitude  2.957960e+00\n",
      "43         dropoff_longitude  2.926061e+00\n",
      "41          pickup_longitude  2.849486e+00\n",
      "0            passenger_count  2.819700e+00\n",
      "14   avg_fare_per_dolocation  1.896586e+00\n",
      "10      congestion_surcharge  1.872687e+00\n",
      "24              is_peak_hour  1.704754e+00\n",
      "13   avg_fare_per_pulocation  1.653218e+00\n",
      "18            ratecode_other  1.424939e+00\n",
      "26                 same_zone  1.381131e+00\n",
      "6                    mta_tax  1.376357e+00\n",
      "16       ratecode_group_ride  1.162675e+00\n",
      "5                      extra  1.095065e+00\n",
      "9      improvement_surcharge  1.037802e+00\n",
      "8               tolls_amount  1.022045e+00\n",
      "19    ratecode_special_rates  1.001457e+00\n",
      "17      ratecode_shared_ride  1.000855e+00\n",
      "15  ratecode_negotiated_fare           NaN\n"
     ]
    }
   ],
   "source": [
    "print(vif_results)"
   ]
  },
  {
   "cell_type": "markdown",
   "id": "ed328c54-551c-4345-bd18-f3a9ea2f65ac",
   "metadata": {},
   "source": [
    "### Calculating the CV (Cross Validation) "
   ]
  },
  {
   "cell_type": "code",
   "execution_count": 16,
   "id": "5665842e-860c-470e-99f3-400eee013667",
   "metadata": {},
   "outputs": [
    {
     "name": "stdout",
     "output_type": "stream",
     "text": [
      "Cross-validation scores: [0.98461067 0.99991531 0.99991433 0.99991407 0.99988137]\n",
      "Mean R-squared: 0.9968471501416275\n"
     ]
    }
   ],
   "source": [
    "from sklearn.model_selection import cross_val_score\n",
    "\n",
    "cv_scores = cross_val_score(linear_model, train_df.drop('fare_amount', axis=1), train_df['fare_amount'], cv=5, scoring='r2')\n",
    "print(f\"Cross-validation scores: {cv_scores}\")\n",
    "print(f\"Mean R-squared: {cv_scores.mean()}\")"
   ]
  },
  {
   "cell_type": "code",
   "execution_count": 17,
   "id": "6bdb421c-a130-45d0-b7f7-9d96958eba0f",
   "metadata": {},
   "outputs": [
    {
     "name": "stdout",
     "output_type": "stream",
     "text": [
      "Mean Score: 0.9968471501416275\n"
     ]
    }
   ],
   "source": [
    "#Similarly calculating the mean standard scores of the cross validation\n",
    "cv_scores1 = cross_val_score(linear_model, train_df.drop('fare_amount', axis=1), train_df['fare_amount'], cv=5)\n",
    "print(f\"Mean Score: {cv_scores1.mean()}\")"
   ]
  },
  {
   "cell_type": "markdown",
   "id": "a7fa54fc-3ee5-4bec-b006-a765f999dcc8",
   "metadata": {},
   "source": [
    "## Performing Residual Analysis"
   ]
  },
  {
   "cell_type": "markdown",
   "id": "ddd0f61e-9543-4284-a03e-19626e78d21b",
   "metadata": {},
   "source": [
    "---"
   ]
  },
  {
   "cell_type": "code",
   "execution_count": 54,
   "id": "6e8d1889-58d3-4c4c-9630-b03934b8b3c4",
   "metadata": {},
   "outputs": [],
   "source": [
    "import matplotlib.pyplot as plt"
   ]
  },
  {
   "cell_type": "code",
   "execution_count": 55,
   "id": "b98e7a66-c447-4eb6-b3b6-622070a239b4",
   "metadata": {},
   "outputs": [
    {
     "data": {
      "image/png": "[encoded data removed]",
      "text/plain": [
       "<Figure size 640x480 with 1 Axes>"
      ]
     },
     "metadata": {},
     "output_type": "display_data"
    }
   ],
   "source": [
    "residuals = validation_df['fare_amount'] - val_predictions\n",
    "plt.scatter(val_predictions, residuals)\n",
    "plt.xlabel('Predicted Values')\n",
    "plt.ylabel('Residuals')\n",
    "plt.title('Residual Plot')\n",
    "plt.show()"
   ]
  },
  {
   "cell_type": "markdown",
   "id": "5ead2a55-a6cd-47d8-a14d-1d49971735c3",
   "metadata": {},
   "source": [
    "### What we learnt from the residual analysis \n",
    "\n",
    "## Overview\n",
    "This document presents the findings from a residual analysis performed on our linear regression model. Despite high R-squared values, the residual plot revealed several important insights that suggest potential areas for model improvement.\n",
    "\n",
    "## Key Observations\n",
    "\n",
    "### 1. Non-linear Pattern\n",
    "- **Observation**: The residual plot exhibits a clear non-linear pattern, evidenced by a curved shape in the residuals.\n",
    "- **Implication**: Our linear model may not be fully capturing the underlying patterns in the data.\n",
    "\n",
    "### 2. Heteroscedasticity\n",
    "- **Observation**: The spread of residuals varies across predicted values, increasing slightly for higher predictions.\n",
    "- **Implication**: Model performance may be inconsistent across different ranges of the predicted variable.\n",
    "\n",
    "### 3. Bias\n",
    "- **Observation**: \n",
    "  - For lower predicted values: residuals tend to be negative.\n",
    "  - For higher predicted values: residuals tend to be positive.\n",
    "- **Implication**: The model might be systematically under-predicting for low values and over-predicting for high values.\n",
    "\n",
    "### 4. Outliers\n",
    "- **Observation**: Potential outliers are visible, particularly at the extremes of the predicted value range.\n",
    "- **Implication**: These outliers may be influencing model performance and warrant further investigation.\n",
    "\n",
    "### 5. Residual Range\n",
    "- **Observation**: Residuals mostly fall within a range of -0.2 to 0.3.\n",
    "- **Implication**: Relatively small range, considering the model's high R-squared value.\n",
    "\n",
    "## Interpretation\n",
    "While our linear regression model demonstrated excellent performance metrics (very high R-squared), the residual plot uncovers several issues:\n",
    "\n",
    "1. The presence of non-linear patterns suggests that a linear model might not be optimal for our data.\n",
    "2. Heteroscedasticity indicates varying model performance across different ranges of the predicted variable.\n",
    "3. Bias at the extremes points to systematic prediction errors for very low and very high values.\n",
    "\n",
    "## Recommendations\n",
    "\n",
    "1. **Explore Non-linear Models**: Consider alternatives such as Random Forest or polynomial regression to better capture non-linear relationships.\n",
    "\n",
    "2. **Feature Engineering**: \n",
    "   - Investigate additional feature engineering techniques.\n",
    "   - Consider including interaction terms or polynomial features.\n",
    "\n",
    "3. **Outlier Analysis**: Conduct a thorough investigation of outliers to determine if they represent genuine anomalies or data issues.\n",
    "\n",
    "4. **Variable Transformations**: \n",
    "   - Explore transformations of the target variable or predictor variables.\n",
    "   - This may help address non-linearity and heteroscedasticity issues.\n",
    "\n",
    "## Conclusion\n",
    "This residual analysis highlights the importance of visualizing model diagnostics, even when numerical metrics appear excellent. By addressing these insights, we can potentially improve our model's performance and reliability across all ranges of our data."
   ]
  },
  {
   "cell_type": "markdown",
   "id": "db5f9163-df69-4f2b-887a-dfd3a8e2b667",
   "metadata": {},
   "source": [
    "### Using a Non-Linear Model this time to check the data complexity and model accuracy "
   ]
  },
  {
   "cell_type": "code",
   "execution_count": 25,
   "id": "1ab69ddb-1e2a-440a-97a0-76836741eb31",
   "metadata": {},
   "outputs": [],
   "source": [
    "#Using RandomForestRegressor\n",
    "#Due to dataset size using a simpler randomforest model\n",
    "from sklearn.ensemble import RandomForestRegressor\n",
    "from sklearn.model_selection import RandomizedSearchCV"
   ]
  },
  {
   "cell_type": "code",
   "execution_count": 26,
   "id": "9c4b2bf6-5198-439b-8112-443dd9092832",
   "metadata": {},
   "outputs": [],
   "source": [
    "rf_model = RandomForestRegressor(random_state=42)"
   ]
  },
  {
   "cell_type": "code",
   "execution_count": 22,
   "id": "c968642b-56e3-485d-9803-64efc41016ab",
   "metadata": {},
   "outputs": [],
   "source": [
    "sample_size = 100000 \n",
    "train_sample = train_df.sample(n=sample_size, random_state=42)"
   ]
  },
  {
   "cell_type": "code",
   "execution_count": 23,
   "id": "e74a08fc-5f5d-43ba-bff4-c0160d4d834f",
   "metadata": {},
   "outputs": [],
   "source": [
    "param_dist = {\n",
    "    'n_estimators': [100, 200],\n",
    "    'max_depth': [10, 20, None],\n",
    "    'min_samples_split': [2, 5],\n",
    "    'min_samples_leaf': [1, 2]\n",
    "}\n",
    "rf_random = RandomizedSearchCV(rf_model, param_distributions=param_dist, n_iter=20, cv=2, random_state=42)"
   ]
  },
  {
   "cell_type": "code",
   "execution_count": 15,
   "id": "1ee4757a-7f0c-4eb1-8111-7f8ddf907010",
   "metadata": {},
   "outputs": [],
   "source": [
    "##Above random forest did not work due to the computational limits of the system"
   ]
  },
  {
   "cell_type": "code",
   "execution_count": null,
   "id": "9060d081-6a02-4749-a25e-ff313d490258",
   "metadata": {},
   "outputs": [],
   "source": [
    "# rf_random.fit(train_df.drop('fare_amount', axis=1), train_df['fare_amount'])\n",
    "# rf_predictions = rf_random.predict(validation_df.drop('fare_amount', axis=1))\n",
    "# rf_r2 = r2_score(validation_df['fare_amount'], rf_predictions)\n",
    "# print(f\"Random Forest R-squared: {rf_r2}\")"
   ]
  },
  {
   "cell_type": "code",
   "execution_count": 27,
   "id": "23323ba4-2ada-41b3-8451-e5a17a135868",
   "metadata": {},
   "outputs": [],
   "source": [
    "from sklearn.tree import DecisionTreeRegressor\n",
    "from sklearn.metrics import r2_score, mean_squared_error\n",
    "from sklearn.model_selection import train_test_split\n",
    "import numpy as np"
   ]
  },
  {
   "cell_type": "code",
   "execution_count": 28,
   "id": "36a871e0-0c5e-4ee8-a41c-eed388ed2a25",
   "metadata": {},
   "outputs": [
    {
     "data": {
      "text/html": [
       "<style>#sk-container-id-2 {color: black;}#sk-container-id-2 pre{padding: 0;}#sk-container-id-2 div.sk-toggleable {background-color: white;}#sk-container-id-2 label.sk-toggleable__label {cursor: pointer;display: block;width: 100%;margin-bottom: 0;padding: 0.3em;box-sizing: border-box;text-align: center;}#sk-container-id-2 label.sk-toggleable__label-arrow:before {content: \"▸\";float: left;margin-right: 0.25em;color: #696969;}#sk-container-id-2 label.sk-toggleable__label-arrow:hover:before {color: black;}#sk-container-id-2 div.sk-estimator:hover label.sk-toggleable__label-arrow:before {color: black;}#sk-container-id-2 div.sk-toggleable__content {max-height: 0;max-width: 0;overflow: hidden;text-align: left;background-color: #f0f8ff;}#sk-container-id-2 div.sk-toggleable__content pre {margin: 0.2em;color: black;border-radius: 0.25em;background-color: #f0f8ff;}#sk-container-id-2 input.sk-toggleable__control:checked~div.sk-toggleable__content {max-height: 200px;max-width: 100%;overflow: auto;}#sk-container-id-2 input.sk-toggleable__control:checked~label.sk-toggleable__label-arrow:before {content: \"▾\";}#sk-container-id-2 div.sk-estimator input.sk-toggleable__control:checked~label.sk-toggleable__label {background-color: #d4ebff;}#sk-container-id-2 div.sk-label input.sk-toggleable__control:checked~label.sk-toggleable__label {background-color: #d4ebff;}#sk-container-id-2 input.sk-hidden--visually {border: 0;clip: rect(1px 1px 1px 1px);clip: rect(1px, 1px, 1px, 1px);height: 1px;margin: -1px;overflow: hidden;padding: 0;position: absolute;width: 1px;}#sk-container-id-2 div.sk-estimator {font-family: monospace;background-color: #f0f8ff;border: 1px dotted black;border-radius: 0.25em;box-sizing: border-box;margin-bottom: 0.5em;}#sk-container-id-2 div.sk-estimator:hover {background-color: #d4ebff;}#sk-container-id-2 div.sk-parallel-item::after {content: \"\";width: 100%;border-bottom: 1px solid gray;flex-grow: 1;}#sk-container-id-2 div.sk-label:hover label.sk-toggleable__label {background-color: #d4ebff;}#sk-container-id-2 div.sk-serial::before {content: \"\";position: absolute;border-left: 1px solid gray;box-sizing: border-box;top: 0;bottom: 0;left: 50%;z-index: 0;}#sk-container-id-2 div.sk-serial {display: flex;flex-direction: column;align-items: center;background-color: white;padding-right: 0.2em;padding-left: 0.2em;position: relative;}#sk-container-id-2 div.sk-item {position: relative;z-index: 1;}#sk-container-id-2 div.sk-parallel {display: flex;align-items: stretch;justify-content: center;background-color: white;position: relative;}#sk-container-id-2 div.sk-item::before, #sk-container-id-2 div.sk-parallel-item::before {content: \"\";position: absolute;border-left: 1px solid gray;box-sizing: border-box;top: 0;bottom: 0;left: 50%;z-index: -1;}#sk-container-id-2 div.sk-parallel-item {display: flex;flex-direction: column;z-index: 1;position: relative;background-color: white;}#sk-container-id-2 div.sk-parallel-item:first-child::after {align-self: flex-end;width: 50%;}#sk-container-id-2 div.sk-parallel-item:last-child::after {align-self: flex-start;width: 50%;}#sk-container-id-2 div.sk-parallel-item:only-child::after {width: 0;}#sk-container-id-2 div.sk-dashed-wrapped {border: 1px dashed gray;margin: 0 0.4em 0.5em 0.4em;box-sizing: border-box;padding-bottom: 0.4em;background-color: white;}#sk-container-id-2 div.sk-label label {font-family: monospace;font-weight: bold;display: inline-block;line-height: 1.2em;}#sk-container-id-2 div.sk-label-container {text-align: center;}#sk-container-id-2 div.sk-container {/* jupyter's `normalize.less` sets `[hidden] { display: none; }` but bootstrap.min.css set `[hidden] { display: none !important; }` so we also need the `!important` here to be able to override the default hidden behavior on the sphinx rendered scikit-learn.org. See: https://github.com/scikit-learn/scikit-learn/issues/21755 */display: inline-block !important;position: relative;}#sk-container-id-2 div.sk-text-repr-fallback {display: none;}</style><div id=\"sk-container-id-2\" class=\"sk-top-container\"><div class=\"sk-text-repr-fallback\"><pre>DecisionTreeRegressor(max_depth=10, random_state=42)</pre><b>In a Jupyter environment, please rerun this cell to show the HTML representation or trust the notebook. <br />On GitHub, the HTML representation is unable to render, please try loading this page with nbviewer.org.</b></div><div class=\"sk-container\" hidden><div class=\"sk-item\"><div class=\"sk-estimator sk-toggleable\"><input class=\"sk-toggleable__control sk-hidden--visually\" id=\"sk-estimator-id-2\" type=\"checkbox\" checked><label for=\"sk-estimator-id-2\" class=\"sk-toggleable__label sk-toggleable__label-arrow\">DecisionTreeRegressor</label><div class=\"sk-toggleable__content\"><pre>DecisionTreeRegressor(max_depth=10, random_state=42)</pre></div></div></div></div></div>"
      ],
      "text/plain": [
       "DecisionTreeRegressor(max_depth=10, random_state=42)"
      ]
     },
     "execution_count": 28,
     "metadata": {},
     "output_type": "execute_result"
    }
   ],
   "source": [
    "#Using a simple decision tree model as the Random Forest is too demanding for my PC\n",
    "\n",
    "\n",
    "sample_size = 100000  # Adjust based on your computer's capabilities\n",
    "df_sample = df3.sample(n=sample_size, random_state=42)\n",
    "\n",
    "X = df_sample.drop('fare_amount', axis=1)\n",
    "y = df_sample['fare_amount']\n",
    "X_train, X_test, y_train, y_test = train_test_split(X, y, test_size=0.2, random_state=42)\n",
    "\n",
    "dt_model = DecisionTreeRegressor(max_depth=10, random_state=42)\n",
    "dt_model.fit(X_train, y_train)"
   ]
  },
  {
   "cell_type": "code",
   "execution_count": 29,
   "id": "979c3245-dba3-4eff-b4d0-5a0b214865ff",
   "metadata": {},
   "outputs": [],
   "source": [
    "dt_predictions = dt_model.predict(X_test)\n",
    "dt_r2 = r2_score(y_test, dt_predictions)\n",
    "dt_rmse = np.sqrt(mean_squared_error(y_test, dt_predictions))"
   ]
  },
  {
   "cell_type": "code",
   "execution_count": 30,
   "id": "8377fcb8-3ff7-457c-add3-3136143df723",
   "metadata": {},
   "outputs": [
    {
     "name": "stdout",
     "output_type": "stream",
     "text": [
      "Decision Tree R-squared: 0.9999954072908998\n",
      "Decision Tree RMSE: 0.002129304640729962\n"
     ]
    }
   ],
   "source": [
    "print(f\"Decision Tree R-squared: {dt_r2}\")\n",
    "print(f\"Decision Tree RMSE: {dt_rmse}\")"
   ]
  },
  {
   "cell_type": "code",
   "execution_count": 31,
   "id": "25a51719-4ad5-4606-96a6-f8da71e3c4d0",
   "metadata": {},
   "outputs": [
    {
     "name": "stdout",
     "output_type": "stream",
     "text": [
      "Linear Model R-squared: 0.9999113198487734\n",
      "Linear Model RMSE: 0.009421297458651307\n"
     ]
    }
   ],
   "source": [
    "print(f\"Linear Model R-squared: {r2}\") \n",
    "print(f\"Linear Model RMSE: {rmse}\")"
   ]
  },
  {
   "cell_type": "markdown",
   "id": "b29a749f-317c-4665-844d-cde6f225b60e",
   "metadata": {},
   "source": [
    "### Using a custom plot to showcase how the two linear and Non-Linear models are performing "
   ]
  },
  {
   "cell_type": "code",
   "execution_count": 34,
   "id": "d6ae374e-e8dd-4f6e-9148-ccb6433008aa",
   "metadata": {},
   "outputs": [],
   "source": [
    "import matplotlib.pyplot as plt "
   ]
  },
  {
   "cell_type": "code",
   "execution_count": 37,
   "id": "b7cf20ff-ce2a-4362-a77d-06d61c4b75b8",
   "metadata": {},
   "outputs": [
    {
     "data": {
      "image/png": "[encoded data removed]",
      "text/plain": [
       "<Figure size 1000x600 with 1 Axes>"
      ]
     },
     "metadata": {},
     "output_type": "display_data"
    }
   ],
   "source": [
    "models = ['Linear Model', 'Decision Tree']\n",
    "r_squared1 = [0.9999113319848773, 0.9999954072908998]\n",
    "rmse1 = [0.009424297458651307, 0.002129304640729962]\n",
    "\n",
    "# Setting  up the bar chart for the visualization here\n",
    "fig, ax = plt.subplots(figsize=(10, 6))\n",
    "x = np.arange(len(models))\n",
    "width = 0.35\n",
    "\n",
    "# Create bars\n",
    "ax.bar(x - width/2, r_squared1, width, label='R-squared', color='skyblue')\n",
    "ax.bar(x + width/2, rmse1, width, label='RMSE', color='lightgreen')\n",
    "\n",
    "# Customize the chart\n",
    "ax.set_ylabel('Scores')\n",
    "ax.set_title('Model Performance Comparison (Linear VS Non Linear')\n",
    "ax.set_xticks(x)\n",
    "ax.set_xticklabels(models)\n",
    "ax.legend()\n",
    "\n",
    "# Add value labels on the bars (Taken from the net here)\n",
    "def autolabel(rects):\n",
    "    for rect in rects:\n",
    "        height = rect.get_height()\n",
    "        ax.annotate(f'{height:.4f}',\n",
    "                    xy=(rect.get_x() + rect.get_width() / 2, height),\n",
    "                    xytext=(0, 3),  # 3 points vertical offset\n",
    "                    textcoords=\"offset points\",\n",
    "                    ha='center', va='bottom', rotation=90)\n",
    "\n",
    "autolabel(ax.containers[0])\n",
    "autolabel(ax.containers[1])\n",
    "\n",
    "# Displayy\n",
    "plt.tight_layout()\n",
    "plt.show()"
   ]
  },
  {
   "cell_type": "markdown",
   "id": "26995eb2-b2a3-425e-8ccf-e3feaf676f59",
   "metadata": {},
   "source": [
    "## Model Comparison Insights\n",
    "\n",
    "### Performance Metrics\n",
    "| Model         | R-squared    | RMSE          |\n",
    "|---------------|--------------|---------------|\n",
    "| Linear Model  | 0.9999113319 | 0.0094242975  |\n",
    "| Decision Tree | 0.9999954073 | 0.0021293046  |\n",
    "\n",
    "### Key Observations\n",
    "\n",
    "1. **Exceptional Performance**: Both the linear regression and decision tree models demonstrate remarkably high predictive accuracy, with R-squared values extremely close to 1 and very low RMSE values.\n",
    "\n",
    "2. **Marginal Difference**: The decision tree model shows a slight edge in performance, but the difference is minimal in practical terms.\n",
    "\n",
    "3. **Linear Relationship Dominance**: The high performance of the linear model suggests that the relationship between the features and the target variable (fare amount) is predominantly linear.\n",
    "\n",
    "4. **Potential Overfitting**: The near-perfect scores for both models, especially the decision tree, raise concerns about potential overfitting. This warrants further investigation, possibly through cross-validation or testing on completely held-out data.\n",
    "\n",
    "### Conclusions\n",
    "\n",
    "1. **Model Selection**: Given the negligible difference in performance, the linear regression model is preferable due to its simplicity, interpretability, and computational efficiency.\n",
    "\n",
    "2. **Feature Importance**: The high performance of the linear model indicates that the feature engineering and selection process was highly effective in capturing the relevant information for fare prediction.\n",
    "\n",
    "3. **Further Steps**:\n",
    "   - Validate the model's performance on a completely separate test set to ensure generalizability.\n",
    "   - Investigate feature importance in the linear model to understand key drivers of fare amounts.\n",
    "   - Consider the practical implications of such high accuracy in a real-world scenario and ensure that the model is not inadvertently using information that wouldn't be available at the time of prediction.\n",
    "\n",
    "4. **Business Impact**: The high predictive accuracy of the linear model suggests that it can be reliably used for fare estimation, potentially improving pricing strategies and customer expectations in the taxi service.\n",
    "\n",
    "### Final Recommendation\n",
    "\n",
    "Proceed with the linear regression model for its balance of high performance, interpretability, and efficiency. However, maintain awareness of the potential for overfitting and validate thoroughly before deployment in a production environment."
   ]
  },
  {
   "cell_type": "markdown",
   "id": "2dfbb56e-79ce-4213-811c-ae5463ae0f20",
   "metadata": {},
   "source": [
    "---"
   ]
  },
  {
   "cell_type": "markdown",
   "id": "c7c5b6e1-a7e2-4d96-8833-23235f54917d",
   "metadata": {},
   "source": [
    "## Building a SHAP model for interpretation (Shapely Additive Explanations)"
   ]
  },
  {
   "cell_type": "code",
   "execution_count": 16,
   "id": "dc7f3fc0-1a3d-4a22-81f5-946b26238715",
   "metadata": {},
   "outputs": [
    {
     "name": "stderr",
     "output_type": "stream",
     "text": [
      "C:\\Users\\Lenovo\\AppData\\Local\\Programs\\Python\\Python311\\Lib\\site-packages\\tqdm\\auto.py:21: TqdmWarning: IProgress not found. Please update jupyter and ipywidgets. See https://ipywidgets.readthedocs.io/en/stable/user_install.html\n",
      "  from .autonotebook import tqdm as notebook_tqdm\n"
     ]
    }
   ],
   "source": [
    "import shap\n",
    "from sklearn.model_selection import train_test_split"
   ]
  },
  {
   "cell_type": "code",
   "execution_count": 17,
   "id": "0ae40c7b-86c5-4dc2-9db3-1a0df3534dad",
   "metadata": {},
   "outputs": [],
   "source": [
    "X1 = df3.drop('fare_amount', axis=1)\n",
    "y1 = df3['fare_amount']"
   ]
  },
  {
   "cell_type": "code",
   "execution_count": 18,
   "id": "5395e590-a7a2-4be6-a378-77c32b2e6495",
   "metadata": {},
   "outputs": [],
   "source": [
    "X_train1, X_test1, y_train1, y_test1 = train_test_split(X1, y1, test_size=0.2, random_state=42)\n",
    "#Creating the SHAP explainer\n",
    "explainer = shap.LinearExplainer(linear_model, X_train1) #temporarily removing the X_train to see how it affects the performance "
   ]
  },
  {
   "cell_type": "code",
   "execution_count": 19,
   "id": "51e82bef-b428-44fb-9d2b-b5e9e039cf85",
   "metadata": {},
   "outputs": [],
   "source": [
    "#Calculating the SHAP values\n",
    "\n",
    "#We will be using a small sample of the dataset as there are performance issues \n",
    "shap_values = explainer.shap_values(X_test1) #trying to use the entire dataset to see if there is differnece in the plots"
   ]
  },
  {
   "cell_type": "markdown",
   "id": "25c2292c-78ea-41fb-841c-dd38bef92e92",
   "metadata": {},
   "source": [
    "### Visualizing the SHAP values for better understanding "
   ]
  },
  {
   "cell_type": "code",
   "execution_count": 21,
   "id": "821ffb6c-8a02-4f27-ba91-09358ffe8fe2",
   "metadata": {},
   "outputs": [],
   "source": [
    "import matplotlib.pyplot as plt"
   ]
  },
  {
   "cell_type": "code",
   "execution_count": 22,
   "id": "3daf2cbd-7055-441a-983f-2007b06effeb",
   "metadata": {},
   "outputs": [
    {
     "data": {
      "image/png": "[encoded data removed]",
      "text/plain": [
       "<Figure size 800x950 with 1 Axes>"
      ]
     },
     "metadata": {},
     "output_type": "display_data"
    },
    {
     "data": {
      "image/png": "[encoded data removed]",
      "text/plain": [
       "<Figure size 640x480 with 1 Axes>"
      ]
     },
     "metadata": {},
     "output_type": "display_data"
    }
   ],
   "source": [
    "plt.figure(figsize=(6, 18))\n",
    "shap.summary_plot(shap_values, X_test1, plot_type=\"bar\") #removing the iloc to see how the plot changes \n",
    "plt.title(\"Feature Importance (Impact on Fare Amount)\")\n",
    "plt.tight_layout()\n",
    "plt.show()"
   ]
  },
  {
   "cell_type": "code",
   "execution_count": 23,
   "id": "0751d5e7-0b63-46fd-9f1d-bfeaa06d00c2",
   "metadata": {},
   "outputs": [
    {
     "name": "stdout",
     "output_type": "stream",
     "text": [
      "[[-5.296681011231282e-06 -0.5151560375481136 2.2999421620292053e-06 ...\n",
      "  0.00012881177943814765 -5.258371638028089e-07 -1.7863322455184565e-05]\n",
      " [-5.296681011231282e-06 0.2398993091058483 -1.1371733106376513e-06 ...\n",
      "  -0.00010560630907178317 0.0003782455565509592 -3.4552937574988333e-05]\n",
      " [-5.296681011231282e-06 0.7033470736037976 -1.319998601736952e-06 ...\n",
      "  0.0011086778313653888 -3.822842183171798e-05 -0.00045354902685761046]\n",
      " ...\n",
      " [-5.296681011231282e-06 0.28676481338092197 -1.2468684852972317e-06 ...\n",
      "  0.00024485192415397473 0.0003052776351288145 -0.0001238995690368867]\n",
      " [1.95904640141431e-06 0.4742268304812159 -1.2468684852972317e-06 ...\n",
      "  0.00024485192415397473 0.00017638297311619935 4.307301405308374e-05]\n",
      " [-5.296681011231282e-06 -0.15064655985309744 3.25063367574557e-06 ...\n",
      "  0.00028456493848616775 0.00010893218630984916 -4.465132407195588e-05]]\n"
     ]
    }
   ],
   "source": [
    "print(shap_values)"
   ]
  },
  {
   "cell_type": "code",
   "execution_count": 30,
   "id": "05eee2d3-26e2-4f99-b678-be78d0719e36",
   "metadata": {},
   "outputs": [],
   "source": [
    "bool_columns = ['ratecode_negotiated_fare', 'ratecode_group_ride', 'ratecode_shared_ride', 'ratecode_other', 'ratecode_special_rates']\n",
    "df3[bool_columns] = df3[bool_columns].astype(bool)"
   ]
  },
  {
   "cell_type": "code",
   "execution_count": 32,
   "id": "a1262117-3ec3-4f23-bb23-a7de70a05c11",
   "metadata": {},
   "outputs": [],
   "source": [
    "import numpy as np"
   ]
  },
  {
   "cell_type": "code",
   "execution_count": 33,
   "id": "2f8f25a1-ce10-42a3-8f4d-582bcd78b812",
   "metadata": {},
   "outputs": [],
   "source": [
    "#Ensuring the data integrity \n",
    "X_test1 = df3.select_dtypes(include=[np.number, 'bool']).copy()"
   ]
  },
  {
   "cell_type": "code",
   "execution_count": 34,
   "id": "08f2d0fc-0d2d-4a97-87d3-5a28379326da",
   "metadata": {},
   "outputs": [
    {
     "ename": "AssertionError",
     "evalue": "The shape of the shap_values matrix does not match the shape of the provided data matrix.",
     "output_type": "error",
     "traceback": [
      "\u001b[1;31m---------------------------------------------------------------------------\u001b[0m",
      "\u001b[1;31mAssertionError\u001b[0m                            Traceback (most recent call last)",
      "Cell \u001b[1;32mIn[34], line 2\u001b[0m\n\u001b[0;32m      1\u001b[0m plt\u001b[38;5;241m.\u001b[39mfigure(figsize\u001b[38;5;241m=\u001b[39m(\u001b[38;5;241m12\u001b[39m, \u001b[38;5;241m8\u001b[39m))\n\u001b[1;32m----> 2\u001b[0m \u001b[43mshap\u001b[49m\u001b[38;5;241;43m.\u001b[39;49m\u001b[43msummary_plot\u001b[49m\u001b[43m(\u001b[49m\u001b[43mshap_values\u001b[49m\u001b[43m,\u001b[49m\u001b[43m \u001b[49m\u001b[43mX_test1\u001b[49m\u001b[43m)\u001b[49m\n\u001b[0;32m      3\u001b[0m plt\u001b[38;5;241m.\u001b[39mtitle(\u001b[38;5;124m\"\u001b[39m\u001b[38;5;124mFeature Impact on Fare Amount\u001b[39m\u001b[38;5;124m\"\u001b[39m)\n\u001b[0;32m      4\u001b[0m plt\u001b[38;5;241m.\u001b[39mtight_layout()\n",
      "File \u001b[1;32m~\\AppData\\Local\\Programs\\Python\\Python311\\Lib\\site-packages\\shap\\plots\\_beeswarm.py:543\u001b[0m, in \u001b[0;36msummary_legacy\u001b[1;34m(shap_values, features, feature_names, max_display, plot_type, color, axis_color, title, alpha, show, sort, color_bar, plot_size, layered_violin_max_num_bins, class_names, class_inds, color_bar_label, cmap, show_values_in_legend, use_log_scale)\u001b[0m\n\u001b[0;32m    540\u001b[0m         \u001b[38;5;28;01massert\u001b[39;00m \u001b[38;5;28;01mFalse\u001b[39;00m, shape_msg \u001b[38;5;241m+\u001b[39m \u001b[38;5;124m\"\u001b[39m\u001b[38;5;124m Perhaps the extra column in the shap_values matrix is the \u001b[39m\u001b[38;5;124m\"\u001b[39m \\\n\u001b[0;32m    541\u001b[0m                       \u001b[38;5;124m\"\u001b[39m\u001b[38;5;124mconstant offset? Of so just pass shap_values[:,:-1].\u001b[39m\u001b[38;5;124m\"\u001b[39m\n\u001b[0;32m    542\u001b[0m     \u001b[38;5;28;01melse\u001b[39;00m:\n\u001b[1;32m--> 543\u001b[0m         \u001b[38;5;28;01massert\u001b[39;00m num_features \u001b[38;5;241m==\u001b[39m features\u001b[38;5;241m.\u001b[39mshape[\u001b[38;5;241m1\u001b[39m], shape_msg\n\u001b[0;32m    545\u001b[0m \u001b[38;5;28;01mif\u001b[39;00m feature_names \u001b[38;5;129;01mis\u001b[39;00m \u001b[38;5;28;01mNone\u001b[39;00m:\n\u001b[0;32m    546\u001b[0m     feature_names \u001b[38;5;241m=\u001b[39m np\u001b[38;5;241m.\u001b[39marray([labels[\u001b[38;5;124m'\u001b[39m\u001b[38;5;124mFEATURE\u001b[39m\u001b[38;5;124m'\u001b[39m] \u001b[38;5;241m%\u001b[39m \u001b[38;5;28mstr\u001b[39m(i) \u001b[38;5;28;01mfor\u001b[39;00m i \u001b[38;5;129;01min\u001b[39;00m \u001b[38;5;28mrange\u001b[39m(num_features)])\n",
      "\u001b[1;31mAssertionError\u001b[0m: The shape of the shap_values matrix does not match the shape of the provided data matrix."
     ]
    },
    {
     "data": {
      "text/plain": [
       "<Figure size 1200x800 with 0 Axes>"
      ]
     },
     "metadata": {},
     "output_type": "display_data"
    }
   ],
   "source": [
    "plt.figure(figsize=(12, 8))\n",
    "shap.summary_plot(shap_values, X_test1)\n",
    "plt.title(\"Feature Impact on Fare Amount\")\n",
    "plt.tight_layout()\n",
    "plt.show()"
   ]
  },
  {
   "cell_type": "code",
   "execution_count": null,
   "id": "dd196681-3ec9-40f1-8750-63d9843480cd",
   "metadata": {},
   "outputs": [],
   "source": []
  }
 ],
 "metadata": {
  "kernelspec": {
   "display_name": "Python 3 (ipykernel)",
   "language": "python",
   "name": "python3"
  },
  "language_info": {
   "codemirror_mode": {
    "name": "ipython",
    "version": 3
   },
   "file_extension": ".py",
   "mimetype": "text/x-python",
   "name": "python",
   "nbconvert_exporter": "python",
   "pygments_lexer": "ipython3",
   "version": "3.11.1"
  }
 },
 "nbformat": 4,
 "nbformat_minor": 5
}
